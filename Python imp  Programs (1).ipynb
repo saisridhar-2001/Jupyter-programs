{
 "cells": [
  {
   "cell_type": "markdown",
   "id": "ecc6b0c9",
   "metadata": {},
   "source": [
    "## Bubble Sort "
   ]
  },
  {
   "cell_type": "code",
   "execution_count": 12,
   "id": "32049e4e",
   "metadata": {},
   "outputs": [
    {
     "name": "stdout",
     "output_type": "stream",
     "text": [
      "The Original array is : [5, 4, 3, 2, 1]\n",
      "The Sorted array is : [1, 2, 3, 4, 5]\n"
     ]
    }
   ],
   "source": [
    "def bubblesort(arr):\n",
    "    for i in range(len(arr)):\n",
    "        for j in range(0,len(arr)-i-1):\n",
    "            if arr[j]>arr[j+1]:\n",
    "                \n",
    "                temp=arr[j]\n",
    "                arr[j]=arr[j+1]\n",
    "                arr[j+1]=temp\n",
    "arr=[5, 4, 3, 2, 1]\n",
    "print(\"The Original array is :\",arr)\n",
    "bubblesort(arr)\n",
    "print(\"The Sorted array is :\",arr)"
   ]
  },
  {
   "cell_type": "markdown",
   "id": "40c3579a",
   "metadata": {},
   "source": [
    "## Prime factor by taking input "
   ]
  },
  {
   "cell_type": "code",
   "execution_count": 14,
   "id": "e48a6c1d",
   "metadata": {},
   "outputs": [
    {
     "name": "stdout",
     "output_type": "stream",
     "text": [
      "90\n",
      "Largest Prime factor is: 5\n"
     ]
    }
   ],
   "source": [
    "import math\n",
    "a=int(input())\n",
    "maxprime=0\n",
    "while a%2==0:\n",
    "    maxprime=2\n",
    "    a=a/2\n",
    "    \n",
    "for i in range(3,int(math.sqrt(a))+1,2):\n",
    "    while a%i==0:\n",
    "        maxprime=i\n",
    "        a=a/i\n",
    "if a>2:\n",
    "    maxprime=a\n",
    "print(\"Largest Prime factor is:\",int(maxprime))"
   ]
  },
  {
   "cell_type": "markdown",
   "id": "8a5dcf2a",
   "metadata": {},
   "source": [
    "## Iterative merge sort "
   ]
  },
  {
   "cell_type": "code",
   "execution_count": 15,
   "id": "0ad63552",
   "metadata": {},
   "outputs": [
    {
     "name": "stdout",
     "output_type": "stream",
     "text": [
      "The Original array is:  [4, 2, 3, 1, 6, 5]\n",
      "Array after sorting is:  [1, 2, 3, 4, 5, 6]\n"
     ]
    }
   ],
   "source": [
    "def merge(S, temp, From, mid, to):\n",
    " \n",
    "    a = From\n",
    "    b = From\n",
    "    c = mid + 1\n",
    " \n",
    "    while b <= mid and c <= to:\n",
    "        if S[b] < S[c]:\n",
    "            temp[a] = S[b]\n",
    "            b = b + 1\n",
    "        else:\n",
    "            temp[a] = S[c]\n",
    "            c = c + 1\n",
    "        a = a + 1\n",
    " \n",
    "    # remaining elements\n",
    "    while b < len(S) and b <= mid:\n",
    "        temp[a] = S[b]\n",
    "        a = a + 1\n",
    "        b = b + 1\n",
    " \n",
    "    # copy back \n",
    "    for b in range(From, to + 1):\n",
    "        S[b] = temp[b]\n",
    " \n",
    " \n",
    "# Iterative sort\n",
    "def Merge_Sort(S):\n",
    " \n",
    "    low = 0\n",
    "    high = len(S) - 1\n",
    " \n",
    "    # sort list\n",
    "    temp = S.copy()\n",
    " \n",
    "    d = 1\n",
    "    while d <= high - low:\n",
    " \n",
    "        for b in range(low, high, 2*d):\n",
    "            From = b\n",
    "            mid = b + d - 1\n",
    "            to = min(b + 2*d - 1, high)\n",
    "            merge(S, temp, From, mid, to)\n",
    " \n",
    "        d = 2*d\n",
    " \n",
    "# Iterative implementation\n",
    "if __name__ == '__main__':\n",
    " \n",
    "    #driver code\n",
    "    S = [4, 2, 3, 1, 6, 5]\n",
    "    print(\"The Original array is: \", S)\n",
    "    Merge_Sort(S)\n",
    "    print(\"Array after sorting is: \", S)"
   ]
  },
  {
   "cell_type": "markdown",
   "id": "df2aac60",
   "metadata": {},
   "source": [
    "## Quick Sort "
   ]
  },
  {
   "cell_type": "code",
   "execution_count": 17,
   "id": "f8d7591b",
   "metadata": {},
   "outputs": [
    {
     "name": "stdout",
     "output_type": "stream",
     "text": [
      "The Original Array: [9, 1, 8, 2, 7, 3, 5, 6, 4]\n",
      "The Sorted Array: [1, 2, 3, 4, 5, 6, 7, 8, 9]\n"
     ]
    }
   ],
   "source": [
    "def partition(arr, low, high):\n",
    "  # rightmost element as pivot\n",
    "  pivot = arr[high]\n",
    "\n",
    "  # pointer \n",
    "  i = low - 1\n",
    "\n",
    "  for j in range(low, high):\n",
    "    if arr[j] <= pivot:\n",
    "      i = i + 1\n",
    "      (arr[i], arr[j]) = (arr[j], arr[i])\n",
    "  (arr[i + 1], arr[high]) = (arr[high], arr[i + 1])\n",
    "\n",
    "  # return the position \n",
    "  return i + 1\n",
    "\n",
    "# QickSort\n",
    "def quickSort(arr, low, high):\n",
    "  if low < high:\n",
    "    # find pivot element \n",
    "    pivot = partition(arr, low, high)\n",
    "    quickSort(arr, low, pivot - 1)\n",
    "    quickSort(arr, pivot + 1, high)\n",
    "\n",
    "# Driver Code\n",
    "array = [9, 1, 8, 2, 7, 3, 5, 6, 4]\n",
    "print(\"The Original Array:\", array)\n",
    "\n",
    "size = len(array)\n",
    "quickSort(array, 0, size - 1)\n",
    "print('The Sorted Array:', array)\n"
   ]
  },
  {
   "cell_type": "markdown",
   "id": "7d530378",
   "metadata": {},
   "source": [
    "# Searching "
   ]
  },
  {
   "cell_type": "markdown",
   "id": "85008319",
   "metadata": {},
   "source": [
    "## Binary Search "
   ]
  },
  {
   "cell_type": "code",
   "execution_count": 19,
   "id": "b01c3c04",
   "metadata": {},
   "outputs": [
    {
     "name": "stdout",
     "output_type": "stream",
     "text": [
      "The given array is: [1, 2, 3, 4, 5, 6, 7]\n",
      "Element to be found is : 4\n",
      "The Index of the element is: 3\n"
     ]
    }
   ],
   "source": [
    "def binary_search(arr, a, low, high):\n",
    "\n",
    "    # Repeat until low and high meet each other\n",
    "    while low <= high:\n",
    "\n",
    "        mid = low + (high - low)//2\n",
    "\n",
    "        if arr[mid] == a:\n",
    "            return mid\n",
    "\n",
    "        elif array[mid] < a:\n",
    "            low = mid + 1\n",
    "\n",
    "        else:\n",
    "            high = mid - 1\n",
    "\n",
    "    return -1\n",
    "\n",
    "arr = [1, 2, 3, 4, 5, 6, 7]\n",
    "a = 4\n",
    "#printing the array\n",
    "print(\"The given array is:\", arr)\n",
    "\n",
    "#printing element to be found\n",
    "print(\"Element to be found is :\", a)\n",
    "\n",
    "index = binary_search(arr, a, 0, len(arr)-1)\n",
    "\n",
    "if index != -1:\n",
    "    print(\"The Index of the element is: \" + str(index))\n",
    "else:\n",
    "    print(\"Element Not found\")"
   ]
  },
  {
   "cell_type": "markdown",
   "id": "6d99c61a",
   "metadata": {},
   "source": [
    "## Linear Search "
   ]
  },
  {
   "cell_type": "code",
   "execution_count": 21,
   "id": "a4896bd8",
   "metadata": {},
   "outputs": [
    {
     "name": "stdout",
     "output_type": "stream",
     "text": [
      "The array given is  [9, 7, 5, 3, 1]\n",
      "Element to be found is  5\n",
      "Index of the element is:  2\n"
     ]
    }
   ],
   "source": [
    "def linear_search(arr, a, b):\n",
    "\n",
    "    # Going through array \n",
    "    for i in range(0, a):\n",
    "        if (arr[i] == b):\n",
    "            return i\n",
    "    return -1\n",
    "\n",
    "arr = [9, 7, 5, 3, 1]\n",
    "print(\"The array given is \", arr)\n",
    "b = 5\n",
    "print(\"Element to be found is \", b)\n",
    "a = len(arr)\n",
    "index = linear_search(arr, a, b)\n",
    "if(index == -1):\n",
    "    print(\"Element is not in the list\")\n",
    "else:\n",
    "    print(\"Index of the element is: \", index)"
   ]
  },
  {
   "cell_type": "markdown",
   "id": "e66ebeac",
   "metadata": {},
   "source": [
    "## 10th Jan test programs "
   ]
  },
  {
   "cell_type": "code",
   "execution_count": 3,
   "id": "a624dd7f",
   "metadata": {},
   "outputs": [
    {
     "name": "stdout",
     "output_type": "stream",
     "text": [
      "7\n",
      "1 2 3 1 2 3 4\n",
      "2\n",
      "3 4\n"
     ]
    }
   ],
   "source": [
    "n = int(input())\n",
    "s = input().split()\n",
    "print(s.count('1'))\n",
    " \n",
    "print(*[x for x,y in zip(s,s[1:]+['1'])if y == '1'])"
   ]
  },
  {
   "cell_type": "markdown",
   "id": "1c89f482",
   "metadata": {},
   "source": [
    "## 12th jan Test programs"
   ]
  },
  {
   "cell_type": "markdown",
   "id": "ac14bbc2",
   "metadata": {},
   "source": [
    "### Printing sum of powers of number of digits in an given Input  "
   ]
  },
  {
   "cell_type": "code",
   "execution_count": 2,
   "id": "88f02c98",
   "metadata": {},
   "outputs": [
    {
     "name": "stdout",
     "output_type": "stream",
     "text": [
      "2357\n",
      "3123\n"
     ]
    }
   ],
   "source": [
    "import re\n",
    "s=input()\n",
    "l=len(s)\n",
    "a=re.findall(r'\\d',s)\n",
    "d=list(map(int,a))\n",
    "L1=[]\n",
    "for i in d:\n",
    "    n=i**l\n",
    "    L1.append(n)\n",
    "sum=0\n",
    "for j in L1:\n",
    "    sum=sum+j\n",
    "print(sum)"
   ]
  },
  {
   "cell_type": "markdown",
   "id": "78ba8b04",
   "metadata": {},
   "source": [
    "### Finding Kth smallest Element"
   ]
  },
  {
   "cell_type": "code",
   "execution_count": 8,
   "id": "213e0e3d",
   "metadata": {},
   "outputs": [
    {
     "name": "stdout",
     "output_type": "stream",
     "text": [
      "5 2\n",
      "5 3 2 1 4\n",
      "2\n"
     ]
    }
   ],
   "source": [
    "n,k=map(int,(input().split()))\n",
    "\n",
    "a=list(map(int,input().split()))\n",
    "a.sort()\n",
    "set(a)\n",
    "if(k<=len(a)):\n",
    "    print(a[k-1])\n",
    "else:\n",
    "    print(-1)"
   ]
  },
  {
   "cell_type": "markdown",
   "id": "1dacdeef",
   "metadata": {},
   "source": [
    "## 14th jan programs on arrays "
   ]
  },
  {
   "cell_type": "code",
   "execution_count": 1,
   "id": "a29f88f8",
   "metadata": {},
   "outputs": [
    {
     "name": "stdout",
     "output_type": "stream",
     "text": [
      "5\n",
      "12224 12343 1234234 123432 2353345\n",
      "dealer0\n"
     ]
    }
   ],
   "source": [
    "#1.) program \n",
    "n=int(input())\n",
    "l=list(map(int,input().split()))\n",
    "a=min(l)\n",
    "print('dealer',end=\"\")\n",
    "print(l.index(a))"
   ]
  },
  {
   "cell_type": "code",
   "execution_count": 4,
   "id": "3c21e80b",
   "metadata": {},
   "outputs": [
    {
     "name": "stdout",
     "output_type": "stream",
     "text": [
      "5\n",
      "3\n",
      "1 2 1 3 5 7\n",
      "235"
     ]
    }
   ],
   "source": [
    "#2.) program \n",
    "n=int(input())\n",
    "l=int(input())\n",
    "lst=list(map(int,input().split()))[:n]\n",
    "for i in set(lst):\n",
    "  if(lst.count(i)==1):\n",
    "    print(i,end=\"\")"
   ]
  },
  {
   "cell_type": "markdown",
   "id": "e62cf370",
   "metadata": {},
   "source": [
    "## 15th Jan programs "
   ]
  },
  {
   "cell_type": "code",
   "execution_count": 1,
   "id": "f9b1b40a",
   "metadata": {},
   "outputs": [
    {
     "name": "stdout",
     "output_type": "stream",
     "text": [
      "codekata\n",
      "2\n"
     ]
    }
   ],
   "source": [
    "#1.) program\n",
    "s=input()\n",
    "l=[]\n",
    "for i in s:\n",
    "    a=s.count(i)\n",
    "    l.append(a)\n",
    "d=max(l)\n",
    "if(d==1):\n",
    "    print('0')\n",
    "else:\n",
    "    print(d)"
   ]
  },
  {
   "cell_type": "code",
   "execution_count": null,
   "id": "73a35bca",
   "metadata": {},
   "outputs": [],
   "source": [
    "#2.) program\n",
    "import re\n",
    "n,k=map(int,(input().split()))\n",
    "l=[]\n",
    "for i in range(n):\n",
    "    s=input()\n",
    "    l.append(s)\n",
    "l1=str(l)\n",
    "a=re.findall(r'\\w+',l1)\n",
    "d=list(map(str,a))\n",
    "found = False\n",
    "for i in d:\n",
    "   if(d.count(i)>=k):\n",
    "       found = True\n",
    "       break\n",
    "if found:\n",
    "   print(\"yes\")\n",
    "else:\n",
    "   print(\"no\")"
   ]
  },
  {
   "cell_type": "code",
   "execution_count": null,
   "id": "391ad06c",
   "metadata": {},
   "outputs": [],
   "source": [
    "#2.) programe(2ND Approch)\n",
    "n,k=map(int,input().split())\n",
    "l=[]\n",
    "for i in range(n):\n",
    "  S=input()\n",
    "  l.append(S)\n",
    "for j in range(len(l)):\n",
    "  if(l[j]==l[j-1] or l[j]==l[j-2] or l[j]==l[j-3]):\n",
    "    print(\"yes\")\n",
    "    break\n",
    "  else:\n",
    "    print(\"no\")\n",
    "    break"
   ]
  },
  {
   "cell_type": "markdown",
   "id": "02c52bd3",
   "metadata": {},
   "source": [
    "## 17th Jan programs "
   ]
  },
  {
   "cell_type": "code",
   "execution_count": null,
   "id": "82f9873d",
   "metadata": {},
   "outputs": [],
   "source": [
    "#1.)programe \n",
    "n=int(input())\n",
    "a=list(map(int,input().split()))\n",
    "sub=[]\n",
    "for i in range(len(a)+1):\n",
    "    for j in range(i+1,len(a)+1):\n",
    "        s=a[i:j]\n",
    "        if(sum(s)==0):\n",
    "            sub.append(len(s))\n",
    "print(max(sub))"
   ]
  },
  {
   "cell_type": "code",
   "execution_count": 14,
   "id": "86082c07",
   "metadata": {},
   "outputs": [
    {
     "name": "stdout",
     "output_type": "stream",
     "text": [
      "4\n",
      "sbbl\n",
      "b\n",
      "2\n",
      "\n",
      "\n",
      "YES\n"
     ]
    }
   ],
   "source": [
    "#2.)programe\n",
    "n=int(input())\n",
    "st=input()\n",
    "c=input()\n",
    "sum=0\n",
    "for i in range(0,n):\n",
    "    if(st[i]==c):\n",
    "        sum=sum+1\n",
    "print(sum)\n",
    "print(\"\\n\")   \n",
    "if(sum>=n/2):\n",
    "    print(\"YES\")\n",
    "else:\n",
    "    print(\"NO\")"
   ]
  },
  {
   "cell_type": "markdown",
   "id": "c7a9ae7c",
   "metadata": {},
   "source": [
    "## 18th jan programs"
   ]
  },
  {
   "cell_type": "code",
   "execution_count": null,
   "id": "c25551e9",
   "metadata": {},
   "outputs": [],
   "source": [
    "#1).program \n",
    "n=int(input())\n",
    "l=list(map(str,input().split()))\n",
    "t=[]\n",
    "for i in l:\n",
    "    if(i=='P'):\n",
    "        t.append(100)\n",
    "    if(i=='A'):\n",
    "        t.append(0)\n",
    "a=sum(t)//len(l)\n",
    "if(a<=25):\n",
    "    print('Blacklisted')\n",
    "else:\n",
    "    print('Not Blacklisted')"
   ]
  },
  {
   "cell_type": "code",
   "execution_count": 5,
   "id": "d8a02ea1",
   "metadata": {},
   "outputs": [
    {
     "name": "stdout",
     "output_type": "stream",
     "text": [
      "5\n",
      "badc\n",
      "abcd"
     ]
    }
   ],
   "source": [
    "#2.) program\n",
    "n=int(input())\n",
    "st=input()\n",
    "for i in sorted(st):\n",
    "    print(i,end=\"\")"
   ]
  },
  {
   "cell_type": "markdown",
   "id": "2ec8ad82",
   "metadata": {},
   "source": [
    "## 19th Jan programs "
   ]
  },
  {
   "cell_type": "code",
   "execution_count": 8,
   "id": "b8a62066",
   "metadata": {},
   "outputs": [
    {
     "name": "stdout",
     "output_type": "stream",
     "text": [
      "2\n",
      "bm\n",
      "0 1\n"
     ]
    },
    {
     "ename": "TypeError",
     "evalue": "'str' object cannot be interpreted as an integer",
     "output_type": "error",
     "traceback": [
      "\u001b[1;31m---------------------------------------------------------------------------\u001b[0m",
      "\u001b[1;31mTypeError\u001b[0m                                 Traceback (most recent call last)",
      "\u001b[1;32mC:\\Users\\KVS~1.SSA\\AppData\\Local\\Temp/ipykernel_5728/353864405.py\u001b[0m in \u001b[0;36m<module>\u001b[1;34m\u001b[0m\n\u001b[0;32m      3\u001b[0m \u001b[0mst\u001b[0m\u001b[1;33m=\u001b[0m\u001b[0minput\u001b[0m\u001b[1;33m(\u001b[0m\u001b[1;33m)\u001b[0m\u001b[1;33m\u001b[0m\u001b[1;33m\u001b[0m\u001b[0m\n\u001b[0;32m      4\u001b[0m \u001b[0ml\u001b[0m\u001b[1;33m,\u001b[0m\u001b[0mr\u001b[0m\u001b[1;33m=\u001b[0m\u001b[1;33m(\u001b[0m\u001b[0minput\u001b[0m\u001b[1;33m(\u001b[0m\u001b[1;33m)\u001b[0m\u001b[1;33m.\u001b[0m\u001b[0msplit\u001b[0m\u001b[1;33m(\u001b[0m\u001b[1;33m)\u001b[0m\u001b[1;33m)\u001b[0m\u001b[1;33m\u001b[0m\u001b[1;33m\u001b[0m\u001b[0m\n\u001b[1;32m----> 5\u001b[1;33m \u001b[0mprint\u001b[0m\u001b[1;33m(\u001b[0m\u001b[0mst\u001b[0m\u001b[1;33m[\u001b[0m\u001b[0mi\u001b[0m\u001b[1;33m]\u001b[0m \u001b[1;32mfor\u001b[0m \u001b[0mi\u001b[0m \u001b[1;32min\u001b[0m \u001b[0mrange\u001b[0m\u001b[1;33m(\u001b[0m\u001b[0ml\u001b[0m\u001b[1;33m,\u001b[0m\u001b[0mr\u001b[0m\u001b[1;33m)\u001b[0m\u001b[1;33m)\u001b[0m\u001b[1;33m\u001b[0m\u001b[1;33m\u001b[0m\u001b[0m\n\u001b[0m",
      "\u001b[1;31mTypeError\u001b[0m: 'str' object cannot be interpreted as an integer"
     ]
    }
   ],
   "source": [
    "#1.) program\n",
    "n=int(input())\n",
    "st=input()\n",
    "l,r=(input().split())\n",
    "print(st[i] for i in range(l,r))"
   ]
  },
  {
   "cell_type": "markdown",
   "id": "eda82462",
   "metadata": {},
   "source": [
    "## 20th Jan programs "
   ]
  },
  {
   "cell_type": "code",
   "execution_count": 1,
   "id": "444d40a7",
   "metadata": {},
   "outputs": [
    {
     "name": "stdout",
     "output_type": "stream",
     "text": [
      "5\n",
      "12121\n",
      "0\n",
      "12121\n"
     ]
    }
   ],
   "source": [
    "#1.) program.\n",
    "n = int(input())\n",
    "s = input().split()\n",
    "print(s.count('1'))\n",
    " \n",
    "print(*[x for x,y in zip(s,s[1:]+['1'])if y == '1'])"
   ]
  },
  {
   "cell_type": "code",
   "execution_count": 5,
   "id": "fc3f75b2",
   "metadata": {},
   "outputs": [
    {
     "name": "stdout",
     "output_type": "stream",
     "text": [
      "3 2\n",
      "50 85 25\n",
      "10 15 25\n",
      "Limak\n"
     ]
    }
   ],
   "source": [
    "#2. program \n",
    "n,k=map(int,input().split())\n",
    "a=list(map(int,input().split()))\n",
    "b=list(map(int,input().split()))\n",
    "add=0\n",
    "add1=0\n",
    "t1=0\n",
    "t2=0\n",
    "for i in range(n):\n",
    "    add+=b[i]\n",
    "    t1+=max(a[i]-add*k,0)\n",
    "    add1+=b[n-1-i]\n",
    "    t2+=max(a[n-1-i]-add1*k,0)\n",
    "if t1>t2:\n",
    "    print(\"Limak\")\n",
    "elif t1==t2:\n",
    "    print(\"Tie\")\n",
    "else:\n",
    "    print(\"Radewoosh\")"
   ]
  },
  {
   "cell_type": "code",
   "execution_count": 1,
   "id": "819fad89",
   "metadata": {},
   "outputs": [
    {
     "name": "stdout",
     "output_type": "stream",
     "text": [
      "{{{}}}\n",
      "Balanced\n"
     ]
    }
   ],
   "source": [
    "a=input()\n",
    "j=0\n",
    "for i in a:\n",
    "    if i==\"{\":\n",
    "        j+=1\n",
    "    else:\n",
    "        j-=1\n",
    "    if j<0:\n",
    "        print(\"Not Balanced\")\n",
    "        break\n",
    "if j==0:\n",
    "    print(\"Balanced\")\n",
    "elif(j>0):\n",
    "    print(\"Not Balanced\")\n"
   ]
  },
  {
   "cell_type": "markdown",
   "id": "9cc30e80",
   "metadata": {},
   "source": [
    "## 21st Jan programs "
   ]
  },
  {
   "cell_type": "code",
   "execution_count": 4,
   "id": "20069660",
   "metadata": {},
   "outputs": [
    {
     "name": "stdout",
     "output_type": "stream",
     "text": [
      "3\n",
      "9\n",
      "# # # # # # # # # # # # # # # \n",
      "* # # # # # # # # # # # # # * \n",
      "* * # # # # # # # # # # # * * \n",
      "* * * # # # # # # # # # * * * \n",
      "* * * * # # # # # # # * * * * \n",
      "* * * * * # # # # # * * * * * \n",
      "* * * * * * # # # * * * * * * \n",
      "* * * * * * * # * * * * * * * \n",
      "\n",
      "2\n",
      "# \n",
      "\n",
      "5\n",
      "# # # # # # # \n",
      "* # # # # # * \n",
      "* * # # # * * \n",
      "* * * # * * * \n",
      "\n"
     ]
    }
   ],
   "source": [
    "t=int(input())\n",
    "for i in range(0,t):\n",
    "    c=int(input())\n",
    "    \n",
    "    for j in range(1,c):\n",
    "        for k in range(1,j):\n",
    "            print(\"*\",end=\" \")\n",
    "        for k in range(1,2*(c-j)):\n",
    "            print(\"#\",end=\" \")\n",
    "        for k in range(1,j):\n",
    "            print(\"*\",end=\" \")\n",
    "        print()\n",
    "    print()\n",
    "                    \n",
    "                "
   ]
  },
  {
   "cell_type": "code",
   "execution_count": 5,
   "id": "03f5a8b7",
   "metadata": {},
   "outputs": [
    {
     "name": "stdout",
     "output_type": "stream",
     "text": [
      "5\n",
      "1 2 3 -4 5\n",
      "7\n"
     ]
    }
   ],
   "source": [
    "n=int(input())\n",
    "a=list(map(int,input().split()))\n",
    "sl=[]\n",
    "for i in range(len(a)+1):\n",
    "    for j in range(i+1,len(a)+1):\n",
    "        s=a[i:j]\n",
    "        sl.append(sum(s))\n",
    "print(max(sl))"
   ]
  },
  {
   "cell_type": "code",
   "execution_count": 15,
   "id": "70f16ea4",
   "metadata": {},
   "outputs": [
    {
     "name": "stdout",
     "output_type": "stream",
     "text": [
      "5\n",
      "1 2 3 -4 5\n",
      "7\n"
     ]
    }
   ],
   "source": [
    "n=int(input())\n",
    "a=list(map(int,input().split()))\n",
    "S=0\n",
    "for i in range(len(a)):\n",
    "    S+=a[i]\n",
    "print(S)\n",
    "    "
   ]
  },
  {
   "cell_type": "markdown",
   "id": "ce8114a2",
   "metadata": {},
   "source": [
    "## 22nd jan programs"
   ]
  },
  {
   "cell_type": "code",
   "execution_count": 1,
   "id": "b9dcad69",
   "metadata": {},
   "outputs": [
    {
     "name": "stdout",
     "output_type": "stream",
     "text": [
      "8\n",
      "1 2 2 2 3 4 5 6\n",
      "3\n"
     ]
    }
   ],
   "source": [
    " # 1.) Program\n",
    "n=int(input())\n",
    "a=list(map(int,(input().split())))\n",
    "l=[]\n",
    "for i in a:\n",
    "    if(a.count(i)==1):\n",
    "        continue\n",
    "    else:\n",
    "        b=a.count(i)\n",
    "        l.append(b)\n",
    "if(len(l)==0):\n",
    "    print(-1)\n",
    "else:\n",
    "    print(max(l))"
   ]
  },
  {
   "cell_type": "code",
   "execution_count": null,
   "id": "50ed1eb5",
   "metadata": {},
   "outputs": [],
   "source": [
    "s,n=input().split(maxsplit=1)\n",
    "k=int(n)\n",
    "l=list(s)\n",
    "for i in(k,len(l)):\n",
    "    f=l[(k-1)::k]\n",
    "a=[]\n",
    "for i in l:\n",
    "    if i in f:\n",
    "        a.append(i)\n",
    "b=[]\n",
    "for j in l:\n",
    "    if j in a:\n",
    "        d=str(j)\n",
    "        d1=d.upper()\n",
    "        b.append(d1)\n",
    "    if j not in a:\n",
    "        d2=str(j)\n",
    "        b.append(d2)\n",
    "e=\"\".join(b)\n",
    "print(e)"
   ]
  },
  {
   "cell_type": "code",
   "execution_count": 2,
   "id": "12117276",
   "metadata": {},
   "outputs": [
    {
     "name": "stdout",
     "output_type": "stream",
     "text": [
      "sai sridhar\n",
      "SAI SRIdhAR\n"
     ]
    }
   ],
   "source": [
    "s1,s2=map(str,input().split())\n",
    "s3=s1+\" \"+s2\n",
    "s4=[]\n",
    "for i in s3:\n",
    "    if(s3.count(i)>1):\n",
    "        a=i.capitalize()\n",
    "        s4.append(a)\n",
    "    if(s3.count(i)==1):\n",
    "        s4.append(i)\n",
    "l=''.join(s4)\n",
    "print(l)"
   ]
  },
  {
   "cell_type": "code",
   "execution_count": 2,
   "id": "48053f46",
   "metadata": {},
   "outputs": [
    {
     "name": "stdout",
     "output_type": "stream",
     "text": [
      "2\n",
      "7 3\n",
      "1 2 3 4 5 6 7\n",
      "1\n",
      "5 10\n",
      "7 7 7 7 7\n",
      "5\n"
     ]
    }
   ],
   "source": [
    "T=int(input())\n",
    "\n",
    "for i in range(T):\n",
    "    n,m=map(int,input().split())\n",
    "    Ar=list(map(int,input().split()))\n",
    "    som=0\n",
    "    for  i in range(len(Ar)):\n",
    "        som+=Ar[i]\n",
    "    D=som%m\n",
    "    print(D)"
   ]
  },
  {
   "cell_type": "code",
   "execution_count": 2,
   "id": "5bd0159b",
   "metadata": {
    "scrolled": true
   },
   "outputs": [
    {
     "name": "stdout",
     "output_type": "stream",
     "text": [
      "2\n",
      "1111\n",
      "1110\n",
      "IMOSSIBLE\n",
      " case#0 : None\n",
      "2221\n",
      "2133\n",
      "IMOSSIBLE\n",
      " case#1 : None\n"
     ]
    }
   ],
   "source": [
    "def Check(U,V):\n",
    "    A=0\n",
    "    B=0\n",
    "    for i in range(len(U)):\n",
    "        A+=i\n",
    "    for e in range(len(V)):\n",
    "        B+=e\n",
    "    if(A<B):\n",
    "        print(str(B-A))\n",
    "    else:\n",
    "        if(U[-1]!=V[-1]):\n",
    "            print(\"IMOSSIBLE\")\n",
    "        else:\n",
    "            print(\"None\")\n",
    "            \n",
    "def Main():\n",
    "    T=int(input())\n",
    "    for i in range(T):\n",
    "        U=input()\n",
    "        V=input()\n",
    "        print(\" case#%d :\"%i,Check(U,V))\n",
    "Main()\n",
    "        "
   ]
  },
  {
   "cell_type": "code",
   "execution_count": 1,
   "id": "9a0efa2f",
   "metadata": {},
   "outputs": [
    {
     "name": "stdout",
     "output_type": "stream",
     "text": [
      "6\n"
     ]
    }
   ],
   "source": [
    "a={'a':1,'b':2,'c':3}\n",
    "print(a['a']+a['b']+a['c'])"
   ]
  },
  {
   "cell_type": "markdown",
   "id": "0f604abe",
   "metadata": {},
   "source": [
    "### Some of squares of matrix"
   ]
  },
  {
   "cell_type": "code",
   "execution_count": 2,
   "id": "5ccbaac4",
   "metadata": {},
   "outputs": [
    {
     "name": "stdout",
     "output_type": "stream",
     "text": [
      "Enter number of required rows: 3\n",
      "1 2 3\n",
      "4 5 6\n",
      "7 8 9\n",
      "7 7 7 \n",
      "8 8 8 \n",
      "9 9 9 \n"
     ]
    }
   ],
   "source": [
    "n=int(input(\"Enter number of required rows: \"))\n",
    "for _ in range(n):\n",
    "    L=list(map(int,input().split()))\n",
    "for i in range(len(L)):\n",
    "    L[i]**2\n",
    "    for j in range(len(L)):\n",
    "        print(L[i],end=\" \")\n",
    "    print()"
   ]
  },
  {
   "cell_type": "code",
   "execution_count": null,
   "id": "2506fceb",
   "metadata": {},
   "outputs": [],
   "source": []
  },
  {
   "cell_type": "code",
   "execution_count": null,
   "id": "49aecbae",
   "metadata": {},
   "outputs": [],
   "source": []
  }
 ],
 "metadata": {
  "kernelspec": {
   "display_name": "Python 3 (ipykernel)",
   "language": "python",
   "name": "python3"
  },
  "language_info": {
   "codemirror_mode": {
    "name": "ipython",
    "version": 3
   },
   "file_extension": ".py",
   "mimetype": "text/x-python",
   "name": "python",
   "nbconvert_exporter": "python",
   "pygments_lexer": "ipython3",
   "version": "3.9.7"
  }
 },
 "nbformat": 4,
 "nbformat_minor": 5
}
