{
 "cells": [
  {
   "cell_type": "markdown",
   "id": "f5803f7a",
   "metadata": {},
   "source": [
    "## Statistics example problems in python"
   ]
  },
  {
   "cell_type": "code",
   "execution_count": 1,
   "id": "20083148",
   "metadata": {},
   "outputs": [],
   "source": [
    "import numpy as np"
   ]
  },
  {
   "cell_type": "markdown",
   "id": "c3c6ff88",
   "metadata": {},
   "source": [
    "### Finding Mean in python"
   ]
  },
  {
   "cell_type": "code",
   "execution_count": 2,
   "id": "e99f513b",
   "metadata": {},
   "outputs": [
    {
     "name": "stdout",
     "output_type": "stream",
     "text": [
      "6.67\n",
      "6.67\n"
     ]
    }
   ],
   "source": [
    "arr=np.array([1,3,5,7,11,13])\n",
    "# Gendral Method.\n",
    "Mean=sum(arr)/len(arr)\n",
    "print(round(Mean,2)) \n",
    "\n",
    "# Round Method is implemented to reduce the floating point values.\n",
    "\n",
    "# Numpy Method.\n",
    "print(round(np.mean(arr),2))\n"
   ]
  },
  {
   "cell_type": "markdown",
   "id": "e3808cbe",
   "metadata": {},
   "source": [
    "### Weighted Average"
   ]
  },
  {
   "cell_type": "markdown",
   "id": "f12dd99d",
   "metadata": {},
   "source": [
    "Weighted Average(W)=Sum of (Product of weights with their respective quantities)/ Sum of all the weights"
   ]
  },
  {
   "cell_type": "code",
   "execution_count": 3,
   "id": "d9c152e5",
   "metadata": {},
   "outputs": [
    {
     "name": "stdout",
     "output_type": "stream",
     "text": [
      "5.67\n"
     ]
    }
   ],
   "source": [
    "arr=np.array([1,2,3,4,7,9])\n",
    "weight=np.array([1,2,3,4,5,6])\n",
    "S=np.average(arr,weights=weight)\n",
    "print(round(S,2))"
   ]
  },
  {
   "cell_type": "markdown",
   "id": "d6e18551",
   "metadata": {},
   "source": [
    "### Median"
   ]
  },
  {
   "cell_type": "code",
   "execution_count": 4,
   "id": "c04a2fc9",
   "metadata": {},
   "outputs": [
    {
     "data": {
      "text/plain": [
       "3.5"
      ]
     },
     "execution_count": 4,
     "metadata": {},
     "output_type": "execute_result"
    }
   ],
   "source": [
    "arr=np.array([1,2,3,4,7,9])\n",
    "np.median(arr)"
   ]
  },
  {
   "cell_type": "markdown",
   "id": "f9c41cf8",
   "metadata": {},
   "source": [
    "### Mode"
   ]
  },
  {
   "cell_type": "markdown",
   "id": "120460e9",
   "metadata": {},
   "source": [
    "The Value Which is most frequently Repeating in the Given array or Data"
   ]
  },
  {
   "cell_type": "markdown",
   "id": "51828b19",
   "metadata": {},
   "source": [
    " #### Finding The Most Repating Value (Mode) and no of repeatitions in an Array"
   ]
  },
  {
   "cell_type": "code",
   "execution_count": 5,
   "id": "8a891d10",
   "metadata": {},
   "outputs": [
    {
     "name": "stdout",
     "output_type": "stream",
     "text": [
      "[(2, 6)]\n"
     ]
    }
   ],
   "source": [
    "\n",
    "arr=np.array([1,2,1,1,3,2,2,2,2,2,6,7,8,8,8,10,4,7,9])\n",
    "\n",
    "from collections import Counter\n",
    "\n",
    "Count=Counter(arr)\n",
    "print(Count.most_common(1))\n"
   ]
  },
  {
   "cell_type": "markdown",
   "id": "6ea00221",
   "metadata": {},
   "source": [
    "### Standard Deviation"
   ]
  },
  {
   "cell_type": "markdown",
   "id": "996b3781",
   "metadata": {},
   "source": [
    "The Square Root of varience of a sample, statastical population,random variable,data collection,or probability distribution is its standard deviation."
   ]
  },
  {
   "attachments": {},
   "cell_type": "markdown",
   "id": "2e061c8b",
   "metadata": {},
   "source": [
    "s=\\frac{\\sqrt{\\sum({x_i-\\bar{x}})^2}}{N}\n",
    "\n",
    "\n",
    "where,\n",
    "\n",
    "xi = data values in the set\n",
    "\n",
    "\n",
    " x̄ = mean of the data\n",
    "\n",
    "N = number of data values"
   ]
  },
  {
   "cell_type": "markdown",
   "id": "57c035e6",
   "metadata": {},
   "source": [
    "#####  Ex: Find the standard deviation for the data: 42, 38, 35, 26, 45, 52, 48.\n",
    "\n",
    "\n",
    "##### Solution:"
   ]
  },
  {
   "cell_type": "markdown",
   "id": "33df5147",
   "metadata": {},
   "source": [
    "We have, N = 7.\n",
    "\n",
    "\n",
    "Mean (x̄) = (42+38+35+26+45+52+48)/7 = 40.85\n",
    "\n",
    "\n",
    "Standard deviation =\\frac{\\sqrt{\\sum({x_i-\\bar{x}})^2}}{N}\n",
    "\n",
    "\n",
    "= \n",
    "\n",
    "\\frac{\\sqrt{(40.85-42)^2+(40.85-38)^2+(40.85-35)^2+(40.85-26)^2+(40.85-45)^2+(40.85-52)^2+(40.85-48)^2}}{7}\n",
    "\n",
    "= 8.07"
   ]
  },
  {
   "cell_type": "code",
   "execution_count": 7,
   "id": "955b4064",
   "metadata": {},
   "outputs": [
    {
     "data": {
      "text/plain": [
       "3.34"
      ]
     },
     "execution_count": 7,
     "metadata": {},
     "output_type": "execute_result"
    }
   ],
   "source": [
    "\n",
    "def Std(arr):\n",
    "    Mean=arr.mean()\n",
    "    f_val=0\n",
    "    for i in arr:\n",
    "        val=(i-Mean)**2\n",
    "        f_val+=val\n",
    "    return (f_val/len(arr))**0.5\n",
    "\n",
    "\n",
    "values=np.array([7,5,9,10,4,14])\n",
    "Sd=round(Std(values),2)\n",
    "Sd"
   ]
  },
  {
   "cell_type": "markdown",
   "id": "d9f04b0c",
   "metadata": {},
   "source": [
    "### Varience"
   ]
  },
  {
   "cell_type": "markdown",
   "id": "f237ad3b",
   "metadata": {},
   "source": [
    "If the data set is a sample the formula of variance is given by,\n",
    "\n",
    "\n",
    "σ2 = ∑ (xi – x̄)2/(n – 1)\n",
    "\n",
    "\n",
    "where,\n",
    "\n",
    "\n",
    "x̄ is the mean of data set.\n",
    "\n",
    "\n",
    "∑ (xi – x̄)2 is the sum of squares of difference of each observation from mean,\n",
    "\n",
    "\n",
    "n is the total number of observations.\n",
    "\n",
    "\n",
    "If we have a population data set, the formula is written as,\n",
    "\n",
    "\n",
    "σ2 = ∑ (xi – x̄)2/n\n"
   ]
  },
  {
   "cell_type": "code",
   "execution_count": 8,
   "id": "af406880",
   "metadata": {},
   "outputs": [
    {
     "name": "stdout",
     "output_type": "stream",
     "text": [
      "11.14\n"
     ]
    }
   ],
   "source": [
    "def Std(arr):\n",
    "    Mean=arr.mean()\n",
    "    final_val=0\n",
    "    for i in arr:\n",
    "        val=(i-Mean)**2\n",
    "        final_val+=val\n",
    "    return (final_val/len(arr))**0.5\n",
    "  \n",
    "values=np.array([7,5,9,10,4,14])\n",
    "sd=Std(values)\n",
    "print(round(sd**2,2))"
   ]
  },
  {
   "cell_type": "code",
   "execution_count": null,
   "id": "33816057",
   "metadata": {},
   "outputs": [],
   "source": []
  }
 ],
 "metadata": {
  "kernelspec": {
   "display_name": "Python 3 (ipykernel)",
   "language": "python",
   "name": "python3"
  },
  "language_info": {
   "codemirror_mode": {
    "name": "ipython",
    "version": 3
   },
   "file_extension": ".py",
   "mimetype": "text/x-python",
   "name": "python",
   "nbconvert_exporter": "python",
   "pygments_lexer": "ipython3",
   "version": "3.9.7"
  }
 },
 "nbformat": 4,
 "nbformat_minor": 5
}
