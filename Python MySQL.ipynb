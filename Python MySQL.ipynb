{
 "cells": [
  {
   "cell_type": "markdown",
   "id": "946394cc",
   "metadata": {},
   "source": [
    "## MYSQL Implementation in Python"
   ]
  },
  {
   "cell_type": "markdown",
   "id": "82c11466",
   "metadata": {},
   "source": [
    "###### Data Base Connectivity\n",
    "\n",
    "1. Install the Packages\n",
    "\n",
    "2. import modules\n",
    "\n",
    "3. connect to the Data Base\n",
    "\n",
    "4. Create Object which Carry SQL Statement to the Data Base\n",
    "\n",
    "5. Excecute the command\n",
    "\n",
    "6. Commit if the Command is DML command\n",
    "\n",
    "7. Close the Connection"
   ]
  },
  {
   "cell_type": "markdown",
   "id": "00368de4",
   "metadata": {},
   "source": [
    "Connecting to the SQL Server and Data Base"
   ]
  },
  {
   "cell_type": "markdown",
   "id": "78ee995a",
   "metadata": {},
   "source": [
    "###### Program to show Existing  Data Bases"
   ]
  },
  {
   "cell_type": "code",
   "execution_count": 13,
   "id": "afafeadb",
   "metadata": {},
   "outputs": [
    {
     "name": "stdout",
     "output_type": "stream",
     "text": [
      "information_schema,mydatabase,mysql,performance_schema,sys,testdb,"
     ]
    }
   ],
   "source": [
    "import mysql.connector\n",
    "mydb=mysql.connector.connect(host=\"localhost\",user=\"root\",password=\"Saisridhar@2001\")\n",
    "mycursor=mydb.cursor()\n",
    "mycursor.execute(\"SHOW DATABASES\")\n",
    "for x in mycursor:\n",
    "    print(*x,end=\",\")"
   ]
  },
  {
   "cell_type": "markdown",
   "id": "1ac19615",
   "metadata": {},
   "source": [
    "##### Program to show Existing Tables in a  Specific Data Base"
   ]
  },
  {
   "cell_type": "code",
   "execution_count": 11,
   "id": "a651ba2f",
   "metadata": {},
   "outputs": [
    {
     "name": "stdout",
     "output_type": "stream",
     "text": [
      "sridhar\n"
     ]
    }
   ],
   "source": [
    "import mysql.connector\n",
    "mydb=mysql.connector.connect(host=\"localhost\",user=\"root\",password=\"Saisridhar@2001\",database=\"mydatabase\")\n",
    "mycursor=mydb.cursor()\n",
    "mycursor.execute(\"SHOW TABLES\")\n",
    "for x in mycursor:\n",
    "    print(*x)"
   ]
  },
  {
   "cell_type": "markdown",
   "id": "b38e494f",
   "metadata": {},
   "source": [
    "##### Displaying  Values of the Table 'sridhar' in Data Base :'mydatabase'"
   ]
  },
  {
   "cell_type": "code",
   "execution_count": 28,
   "id": "81e69764",
   "metadata": {},
   "outputs": [
    {
     "name": "stdout",
     "output_type": "stream",
     "text": [
      "1 Sai Sridhar Kolluri Tottramudi Amalapuram,1 Sai Sridhar Kolluri Tottramudi Amalapuram,"
     ]
    }
   ],
   "source": [
    "import mysql.connector\n",
    "mydb=mysql.connector.connect(host=\"localhost\",user=\"root\",password=\"Saisridhar@2001\",database=\"mydatabase\")\n",
    "mycursor=mydb.cursor()\n",
    "SQL=\"UPDATE sridhar SET  Last_name='Kolluri'  WHERE  Last_name='kollri'\"\n",
    "mycursor.execute(SQL)\n",
    "mydb.commit()\n",
    "mycursor.execute(\"SELECT * FROM sridhar\")\n",
    "for x in mycursor:\n",
    "    print(*x,end=\",\")"
   ]
  },
  {
   "cell_type": "code",
   "execution_count": 5,
   "id": "97e41391",
   "metadata": {},
   "outputs": [
    {
     "name": "stdout",
     "output_type": "stream",
     "text": [
      "id,firstname,lastname,address,city\n"
     ]
    }
   ],
   "source": [
    "import mysql.connector\n",
    "mydb=mysql.connector.connect(host=\"localhost\",user=\"root\",password=\"Saisridhar@2001\",database=\"mydatabase\")\n",
    "mycursor=mydb.cursor()\n",
    "Sql1=\"DELETE FROM sridhar WHERE id='1' \"\n",
    "mycursor.execute(Sql1)\n",
    "data=mycursor.fetchall()\n",
    "print(\"id,firstname,lastname,address,city\")\n",
    "for x in data:\n",
    "    for y in x:\n",
    "        print(y,end=\",\")\n",
    "    print()"
   ]
  },
  {
   "cell_type": "code",
   "execution_count": 1,
   "id": "a14d11b0",
   "metadata": {},
   "outputs": [
    {
     "ename": "ProgrammingError",
     "evalue": "Not all parameters were used in the SQL statement",
     "output_type": "error",
     "traceback": [
      "\u001b[1;31m---------------------------------------------------------------------------\u001b[0m",
      "\u001b[1;31mProgrammingError\u001b[0m                          Traceback (most recent call last)",
      "\u001b[1;32mC:\\Users\\KVS~1.SSA\\AppData\\Local\\Temp/ipykernel_14888/2300562526.py\u001b[0m in \u001b[0;36m<module>\u001b[1;34m\u001b[0m\n\u001b[0;32m      5\u001b[0m val=[(1,'Sai Sridhar','Kolluri','Tottaramudi','Amalapuram'),\n\u001b[0;32m      6\u001b[0m      (2,'Rahul','Sharma','B-Block','Gurugram')]\n\u001b[1;32m----> 7\u001b[1;33m \u001b[0mmycursor\u001b[0m\u001b[1;33m.\u001b[0m\u001b[0mexecutemany\u001b[0m\u001b[1;33m(\u001b[0m\u001b[0mSql1\u001b[0m\u001b[1;33m,\u001b[0m\u001b[0mval\u001b[0m\u001b[1;33m)\u001b[0m\u001b[1;33m\u001b[0m\u001b[1;33m\u001b[0m\u001b[0m\n\u001b[0m\u001b[0;32m      8\u001b[0m \u001b[0mdata\u001b[0m\u001b[1;33m=\u001b[0m\u001b[0mmycursor\u001b[0m\u001b[1;33m.\u001b[0m\u001b[0mfetchall\u001b[0m\u001b[1;33m(\u001b[0m\u001b[1;33m)\u001b[0m\u001b[1;33m\u001b[0m\u001b[1;33m\u001b[0m\u001b[0m\n\u001b[0;32m      9\u001b[0m \u001b[1;32mfor\u001b[0m \u001b[0mx\u001b[0m \u001b[1;32min\u001b[0m \u001b[0mdata\u001b[0m\u001b[1;33m:\u001b[0m\u001b[1;33m\u001b[0m\u001b[1;33m\u001b[0m\u001b[0m\n",
      "\u001b[1;32mD:\\Sai Sridhar\\Anakonda\\lib\\site-packages\\mysql\\connector\\cursor_cext.py\u001b[0m in \u001b[0;36mexecutemany\u001b[1;34m(self, operation, seq_params)\u001b[0m\n\u001b[0;32m    404\u001b[0m             \u001b[1;31m# why we use it as indicator for updating rowcnt.\u001b[0m\u001b[1;33m\u001b[0m\u001b[1;33m\u001b[0m\u001b[0m\n\u001b[0;32m    405\u001b[0m             \u001b[1;32mfor\u001b[0m \u001b[0mparams\u001b[0m \u001b[1;32min\u001b[0m \u001b[0mseq_params\u001b[0m\u001b[1;33m:\u001b[0m\u001b[1;33m\u001b[0m\u001b[1;33m\u001b[0m\u001b[0m\n\u001b[1;32m--> 406\u001b[1;33m                 \u001b[0mself\u001b[0m\u001b[1;33m.\u001b[0m\u001b[0mexecute\u001b[0m\u001b[1;33m(\u001b[0m\u001b[0moperation\u001b[0m\u001b[1;33m,\u001b[0m \u001b[0mparams\u001b[0m\u001b[1;33m)\u001b[0m\u001b[1;33m\u001b[0m\u001b[1;33m\u001b[0m\u001b[0m\n\u001b[0m\u001b[0;32m    407\u001b[0m                 \u001b[1;32mif\u001b[0m \u001b[0mself\u001b[0m\u001b[1;33m.\u001b[0m\u001b[0mwith_rows\u001b[0m \u001b[1;32mand\u001b[0m \u001b[0mself\u001b[0m\u001b[1;33m.\u001b[0m\u001b[0m_cnx\u001b[0m\u001b[1;33m.\u001b[0m\u001b[0munread_result\u001b[0m\u001b[1;33m:\u001b[0m\u001b[1;33m\u001b[0m\u001b[1;33m\u001b[0m\u001b[0m\n\u001b[0;32m    408\u001b[0m                     \u001b[0mself\u001b[0m\u001b[1;33m.\u001b[0m\u001b[0mfetchall\u001b[0m\u001b[1;33m(\u001b[0m\u001b[1;33m)\u001b[0m\u001b[1;33m\u001b[0m\u001b[1;33m\u001b[0m\u001b[0m\n",
      "\u001b[1;32mD:\\Sai Sridhar\\Anakonda\\lib\\site-packages\\mysql\\connector\\cursor_cext.py\u001b[0m in \u001b[0;36mexecute\u001b[1;34m(self, operation, params, multi)\u001b[0m\n\u001b[0;32m    272\u001b[0m                 \u001b[0mstmt\u001b[0m \u001b[1;33m=\u001b[0m \u001b[0mRE_PY_PARAM\u001b[0m\u001b[1;33m.\u001b[0m\u001b[0msub\u001b[0m\u001b[1;33m(\u001b[0m\u001b[0mpsub\u001b[0m\u001b[1;33m,\u001b[0m \u001b[0mstmt\u001b[0m\u001b[1;33m)\u001b[0m\u001b[1;33m\u001b[0m\u001b[1;33m\u001b[0m\u001b[0m\n\u001b[0;32m    273\u001b[0m                 \u001b[1;32mif\u001b[0m \u001b[0mpsub\u001b[0m\u001b[1;33m.\u001b[0m\u001b[0mremaining\u001b[0m \u001b[1;33m!=\u001b[0m \u001b[1;36m0\u001b[0m\u001b[1;33m:\u001b[0m\u001b[1;33m\u001b[0m\u001b[1;33m\u001b[0m\u001b[0m\n\u001b[1;32m--> 274\u001b[1;33m                     raise ProgrammingError(\n\u001b[0m\u001b[0;32m    275\u001b[0m                         \u001b[1;34m\"Not all parameters were used in the SQL statement\"\u001b[0m\u001b[1;33m\u001b[0m\u001b[1;33m\u001b[0m\u001b[0m\n\u001b[0;32m    276\u001b[0m                     )\n",
      "\u001b[1;31mProgrammingError\u001b[0m: Not all parameters were used in the SQL statement"
     ]
    }
   ],
   "source": [
    "import mysql.connector\n",
    "mydb=mysql.connector.connect(host=\"localhost\",user=\"root\",password=\"Saisridhar@2001\",database=\"mydatabase\")\n",
    "mycursor=mydb.cursor()\n",
    "Sql1=\"INSERT INTO sridhar (ID,First_name,Last_name,Address,city) VALUES (%d,%s,%s,%s,%s)\"\n",
    "val=[(1,'Sai Sridhar','Kolluri','Tottaramudi','Amalapuram'),\n",
    "     (2,'Rahul','Sharma','B-Block','Gurugram')]\n",
    "mycursor.executemany(Sql1,val)\n",
    "data=mycursor.fetchall()\n",
    "for x in data:\n",
    "    for y in x:\n",
    "        print(y,end=\",\")\n",
    "    print()"
   ]
  },
  {
   "cell_type": "code",
   "execution_count": null,
   "id": "a283a485",
   "metadata": {},
   "outputs": [],
   "source": []
  }
 ],
 "metadata": {
  "kernelspec": {
   "display_name": "Python 3 (ipykernel)",
   "language": "python",
   "name": "python3"
  },
  "language_info": {
   "codemirror_mode": {
    "name": "ipython",
    "version": 3
   },
   "file_extension": ".py",
   "mimetype": "text/x-python",
   "name": "python",
   "nbconvert_exporter": "python",
   "pygments_lexer": "ipython3",
   "version": "3.9.7"
  }
 },
 "nbformat": 4,
 "nbformat_minor": 5
}
