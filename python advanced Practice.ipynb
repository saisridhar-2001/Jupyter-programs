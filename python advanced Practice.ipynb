{
 "cells": [
  {
   "cell_type": "markdown",
   "id": "a06ec492",
   "metadata": {},
   "source": [
    "# pattern programs in python \n"
   ]
  },
  {
   "cell_type": "code",
   "execution_count": 13,
   "id": "d13d4518",
   "metadata": {},
   "outputs": [
    {
     "name": "stdout",
     "output_type": "stream",
     "text": [
      "5\n",
      "\n",
      "\n",
      "0 \n",
      "\n",
      "0 1 \n",
      "\n",
      "0 1 2 \n",
      "\n",
      "0 1 2 3 \n",
      "\n"
     ]
    }
   ],
   "source": [
    "n=int(input())\n",
    "for i in range(n):\n",
    "    for j in range(i):\n",
    "        print(j,end=\" \")\n",
    "    print(\"\\n\")"
   ]
  },
  {
   "cell_type": "code",
   "execution_count": 17,
   "id": "00e74bae",
   "metadata": {},
   "outputs": [
    {
     "name": "stdout",
     "output_type": "stream",
     "text": [
      "5\n",
      "\n",
      "\n",
      "1 \n",
      "\n",
      "2 1 \n",
      "\n",
      "3 2 1 \n",
      "\n",
      "4 3 2 1 \n",
      "\n"
     ]
    }
   ],
   "source": [
    "n=int(input())\n",
    "for i in range(n):\n",
    "    for j in range(i,0,-1):\n",
    "        print(j,end=\" \")\n",
    "    print(\"\\n\")"
   ]
  },
  {
   "cell_type": "code",
   "execution_count": 2,
   "id": "9fdaa0ba",
   "metadata": {},
   "outputs": [
    {
     "name": "stdout",
     "output_type": "stream",
     "text": [
      "5\n",
      "\n",
      "\n",
      "1 \n",
      "\n",
      "2 2 \n",
      "\n",
      "3 3 3 \n",
      "\n",
      "4 4 4 4 \n",
      "\n"
     ]
    }
   ],
   "source": [
    "n=int(input())\n",
    "for i in range(n):\n",
    "    for j in range(i):\n",
    "        print(i,end=\" \")\n",
    "    print(\"\\n\")"
   ]
  },
  {
   "cell_type": "code",
   "execution_count": 8,
   "id": "c5825dce",
   "metadata": {},
   "outputs": [
    {
     "name": "stdout",
     "output_type": "stream",
     "text": [
      "sridhar\n",
      "2 7 "
     ]
    }
   ],
   "source": [
    "n=input()\n",
    "sum=0\n",
    "for i in range(len(n)):\n",
    "    if n[i] in [\"A\",\"E\",\"I\",\"O\",\"U\",\"a\",\"e\",\"i\",\"o\",\"u\"]:\n",
    "        sum=sum+i\n",
    "        print(sum,end=\" \")"
   ]
  },
  {
   "cell_type": "code",
   "execution_count": 38,
   "id": "701e7dbd",
   "metadata": {},
   "outputs": [
    {
     "name": "stdout",
     "output_type": "stream",
     "text": [
      "4\n",
      "1 \n",
      "2 3 \n",
      "4 5 6 \n",
      "7 8 9 10 \n"
     ]
    }
   ],
   "source": [
    "n=int(input())\n",
    "num=0\n",
    "for i in range(1,n+1):\n",
    "    for j in range(1,i+1):\n",
    "        num=num+1\n",
    "        print(num,end=\" \")\n",
    "    print()"
   ]
  },
  {
   "cell_type": "code",
   "execution_count": 2,
   "id": "9521efcd",
   "metadata": {},
   "outputs": [
    {
     "name": "stdout",
     "output_type": "stream",
     "text": [
      "4\n",
      "\n",
      "\n",
      "4 \n",
      "4 3 \n",
      "4 3 2 \n",
      "4 3 2 1 \n"
     ]
    }
   ],
   "source": [
    "n=int(input())\n",
    "print(\"\\n\")\n",
    "for i in range(0,n):\n",
    "    for j in range(i+1):\n",
    "        print(n-j,end=\" \")\n",
    "    print()"
   ]
  },
  {
   "cell_type": "markdown",
   "id": "82bcb87f",
   "metadata": {},
   "source": [
    "# # Basic practices on Hackthon."
   ]
  },
  {
   "cell_type": "code",
   "execution_count": 40,
   "id": "de134dfd",
   "metadata": {},
   "outputs": [
    {
     "data": {
      "text/plain": [
       "str"
      ]
     },
     "execution_count": 40,
     "metadata": {},
     "output_type": "execute_result"
    }
   ],
   "source": [
    "n=\"Hello\"\n",
    "type(n)"
   ]
  },
  {
   "cell_type": "code",
   "execution_count": 1,
   "id": "0cc69656",
   "metadata": {},
   "outputs": [
    {
     "name": "stdout",
     "output_type": "stream",
     "text": [
      "value\n",
      "84\n"
     ]
    }
   ],
   "source": [
    "val=84\n",
    "if val:\n",
    "    print(\"value\")\n",
    "    print(val)"
   ]
  },
  {
   "cell_type": "markdown",
   "id": "9f3b962c",
   "metadata": {},
   "source": [
    "# if else ladder"
   ]
  },
  {
   "cell_type": "code",
   "execution_count": 6,
   "id": "3e1f6251",
   "metadata": {},
   "outputs": [
    {
     "name": "stdout",
     "output_type": "stream",
     "text": [
      " Enter  a number : -2\n",
      "Entered numbner is negitive\n"
     ]
    }
   ],
   "source": [
    "val=float(input(\" Enter  a number : \"))\n",
    "if val>=0:\n",
    "    if val==0:\n",
    "        print(\"Zero\")\n",
    "    else:\n",
    "        print(\"Entered number is positive\")\n",
    "else:\n",
    "    print(\"Entered numbner is negitive\")"
   ]
  },
  {
   "cell_type": "markdown",
   "id": "9ea4dc19",
   "metadata": {},
   "source": [
    "## Numpy"
   ]
  },
  {
   "cell_type": "code",
   "execution_count": 2,
   "id": "b8bccd92",
   "metadata": {},
   "outputs": [],
   "source": [
    "import numpy as np\n",
    "import matplotlib.pyplot as plt"
   ]
  },
  {
   "cell_type": "code",
   "execution_count": 3,
   "id": "c5a6d301",
   "metadata": {},
   "outputs": [
    {
     "name": "stdout",
     "output_type": "stream",
     "text": [
      "2 3 5 7 11\n",
      "1 3 6 8 10\n",
      "[2, 3, 5, 7, 11]  [1, 3, 6, 8, 10]  \n",
      "[2, 3, 5, 7, 11]  [1, 3, 6, 8, 10]  \n"
     ]
    }
   ],
   "source": [
    "l=list(map(int,input().split()))\n",
    "l2=list(map(int,input().split()))\n",
    "ii=[l,l2]\n",
    "for row in ii:\n",
    "    for ele in ii:\n",
    "        print(ele,end=\"  \")\n",
    "    print()"
   ]
  },
  {
   "cell_type": "code",
   "execution_count": 4,
   "id": "89fb009d",
   "metadata": {},
   "outputs": [
    {
     "data": {
      "text/plain": [
       "array([1, 2, 3])"
      ]
     },
     "execution_count": 4,
     "metadata": {},
     "output_type": "execute_result"
    }
   ],
   "source": [
    "Arr=np.array([1,2,3])\n",
    "Arr"
   ]
  },
  {
   "cell_type": "code",
   "execution_count": 5,
   "id": "a8f7eeeb",
   "metadata": {},
   "outputs": [
    {
     "data": {
      "text/plain": [
       "array([[1, 2, 3],\n",
       "       [4, 5, 6]])"
      ]
     },
     "execution_count": 5,
     "metadata": {},
     "output_type": "execute_result"
    }
   ],
   "source": [
    "Arr1=np.array([[1,2,3],\n",
    "              [4,5,6]])\n",
    "Arr1"
   ]
  },
  {
   "cell_type": "code",
   "execution_count": 6,
   "id": "e61105b1",
   "metadata": {},
   "outputs": [
    {
     "data": {
      "text/plain": [
       "(2, 3)"
      ]
     },
     "execution_count": 6,
     "metadata": {},
     "output_type": "execute_result"
    }
   ],
   "source": [
    "Arr1.shape"
   ]
  },
  {
   "cell_type": "code",
   "execution_count": 7,
   "id": "29d5b201",
   "metadata": {},
   "outputs": [
    {
     "name": "stdout",
     "output_type": "stream",
     "text": [
      "[[1. 1. 1.]\n",
      " [1. 1. 1.]\n",
      " [1. 1. 1.]]\n",
      "\n",
      "\n",
      "[[0. 0. 0.]\n",
      " [0. 0. 0.]\n",
      " [0. 0. 0.]]\n",
      "\n",
      "\n",
      "[[1. 0. 0.]\n",
      " [0. 1. 0.]\n",
      " [0. 0. 1.]]\n"
     ]
    }
   ],
   "source": [
    "S=np.ones((3,3))\n",
    "print(S)\n",
    "print(\"\\n\")\n",
    "S2=np.zeros((3,3))\n",
    "print(S2)\n",
    "print(\"\\n\")\n",
    "S3=np.eye(3,3)\n",
    "print(S3)"
   ]
  },
  {
   "cell_type": "code",
   "execution_count": 8,
   "id": "ce08f4b2",
   "metadata": {},
   "outputs": [
    {
     "data": {
      "text/plain": [
       "array([ 1,  2,  3,  4,  5,  6,  7,  8,  9, 10])"
      ]
     },
     "execution_count": 8,
     "metadata": {},
     "output_type": "execute_result"
    }
   ],
   "source": [
    "R_Array=np.arange(1,11,1)\n",
    "R_Array"
   ]
  },
  {
   "cell_type": "code",
   "execution_count": 9,
   "id": "98e10817",
   "metadata": {},
   "outputs": [
    {
     "data": {
      "text/plain": [
       "array([[6, 4, 3],\n",
       "       [2, 4, 3],\n",
       "       [8, 7, 6]])"
      ]
     },
     "execution_count": 9,
     "metadata": {},
     "output_type": "execute_result"
    }
   ],
   "source": [
    "r_mat=np.random.randint(1,10,size=(3,3))\n",
    "r_mat"
   ]
  },
  {
   "cell_type": "code",
   "execution_count": 10,
   "id": "7ff64c5e",
   "metadata": {},
   "outputs": [
    {
     "data": {
      "text/plain": [
       "1"
      ]
     },
     "execution_count": 10,
     "metadata": {},
     "output_type": "execute_result"
    }
   ],
   "source": [
    "Arr[0]"
   ]
  },
  {
   "cell_type": "code",
   "execution_count": 11,
   "id": "321b773e",
   "metadata": {},
   "outputs": [
    {
     "data": {
      "text/plain": [
       "3"
      ]
     },
     "execution_count": 11,
     "metadata": {},
     "output_type": "execute_result"
    }
   ],
   "source": [
    "Arr1[0][2]"
   ]
  },
  {
   "cell_type": "code",
   "execution_count": 12,
   "id": "58a08bff",
   "metadata": {},
   "outputs": [
    {
     "data": {
      "text/plain": [
       "array([[4, 5, 6],\n",
       "       [1, 2, 3]])"
      ]
     },
     "execution_count": 12,
     "metadata": {},
     "output_type": "execute_result"
    }
   ],
   "source": [
    "Arr1[::-1]"
   ]
  },
  {
   "cell_type": "code",
   "execution_count": 13,
   "id": "a67c6c26",
   "metadata": {},
   "outputs": [
    {
     "name": "stdout",
     "output_type": "stream",
     "text": [
      "[ 1  2  3  4  5  6  7  8  9 10]\n",
      "--------------------------------------------------\n",
      "[99 99 99 99 99  6  7  8  9 10]\n"
     ]
    }
   ],
   "source": [
    "temp = np.arange(1,11,1)\n",
    "temp1 = temp.copy()\n",
    "temp1[:5] = 99\n",
    "print(temp)\n",
    "print('-'*50)\n",
    "print(temp1)\n"
   ]
  },
  {
   "cell_type": "code",
   "execution_count": 14,
   "id": "269069b7",
   "metadata": {},
   "outputs": [
    {
     "data": {
      "text/plain": [
       "array([[ 1,  4,  9],\n",
       "       [ 4, 10, 18]])"
      ]
     },
     "execution_count": 14,
     "metadata": {},
     "output_type": "execute_result"
    }
   ],
   "source": [
    "M=Arr*Arr1\n",
    "M"
   ]
  },
  {
   "cell_type": "code",
   "execution_count": 15,
   "id": "7ebd4f3b",
   "metadata": {},
   "outputs": [
    {
     "data": {
      "text/plain": [
       "array([[1., 2., 3.],\n",
       "       [1., 2., 3.]])"
      ]
     },
     "execution_count": 15,
     "metadata": {},
     "output_type": "execute_result"
    }
   ],
   "source": [
    "M/Arr1"
   ]
  },
  {
   "cell_type": "code",
   "execution_count": 16,
   "id": "b10a887e",
   "metadata": {},
   "outputs": [
    {
     "data": {
      "text/plain": [
       "array([[1. , 1. , 1. ],\n",
       "       [4. , 2.5, 2. ]])"
      ]
     },
     "execution_count": 16,
     "metadata": {},
     "output_type": "execute_result"
    }
   ],
   "source": [
    "Arr1/Arr"
   ]
  },
  {
   "cell_type": "code",
   "execution_count": 17,
   "id": "00c1186e",
   "metadata": {},
   "outputs": [
    {
     "data": {
      "text/plain": [
       "array([0.        , 0.69314718, 1.09861229])"
      ]
     },
     "execution_count": 17,
     "metadata": {},
     "output_type": "execute_result"
    }
   ],
   "source": [
    "np.log(Arr)"
   ]
  },
  {
   "cell_type": "code",
   "execution_count": 18,
   "id": "33caac9d",
   "metadata": {},
   "outputs": [
    {
     "data": {
      "text/plain": [
       "array([1.        , 1.41421356, 1.73205081])"
      ]
     },
     "execution_count": 18,
     "metadata": {},
     "output_type": "execute_result"
    }
   ],
   "source": [
    "np.sqrt(Arr)"
   ]
  },
  {
   "cell_type": "code",
   "execution_count": 19,
   "id": "02f49cc3",
   "metadata": {},
   "outputs": [
    {
     "data": {
      "text/plain": [
       "6"
      ]
     },
     "execution_count": 19,
     "metadata": {},
     "output_type": "execute_result"
    }
   ],
   "source": [
    "sum(Arr)"
   ]
  },
  {
   "cell_type": "code",
   "execution_count": 20,
   "id": "a37ec37d",
   "metadata": {},
   "outputs": [
    {
     "data": {
      "text/plain": [
       "3"
      ]
     },
     "execution_count": 20,
     "metadata": {},
     "output_type": "execute_result"
    }
   ],
   "source": [
    "np.max(Arr)"
   ]
  },
  {
   "cell_type": "code",
   "execution_count": 21,
   "id": "aa6d99ca",
   "metadata": {},
   "outputs": [
    {
     "data": {
      "text/plain": [
       "6"
      ]
     },
     "execution_count": 21,
     "metadata": {},
     "output_type": "execute_result"
    }
   ],
   "source": [
    "np.max(Arr1)"
   ]
  },
  {
   "cell_type": "code",
   "execution_count": 24,
   "id": "a9db9c4b",
   "metadata": {},
   "outputs": [
    {
     "name": "stdout",
     "output_type": "stream",
     "text": [
      "2.0\n",
      "\n",
      "\n",
      "3.5\n"
     ]
    }
   ],
   "source": [
    "L=np.mean(Arr)\n",
    "print(L)\n",
    "print(\"\\n\")\n",
    "k=np.mean(Arr1)\n",
    "print(k)"
   ]
  },
  {
   "cell_type": "code",
   "execution_count": 29,
   "id": "ee67c997",
   "metadata": {},
   "outputs": [
    {
     "name": "stdout",
     "output_type": "stream",
     "text": [
      "1\n"
     ]
    }
   ],
   "source": [
    "M=min(Arr)\n",
    "print(M)"
   ]
  },
  {
   "cell_type": "code",
   "execution_count": 30,
   "id": "765aa703",
   "metadata": {},
   "outputs": [
    {
     "data": {
      "text/plain": [
       "array([[1.        , 1.41421356, 1.73205081],\n",
       "       [2.        , 2.23606798, 2.44948974]])"
      ]
     },
     "execution_count": 30,
     "metadata": {},
     "output_type": "execute_result"
    }
   ],
   "source": [
    "np.sqrt(Arr1)"
   ]
  },
  {
   "cell_type": "code",
   "execution_count": 31,
   "id": "b0f10ffd",
   "metadata": {},
   "outputs": [
    {
     "data": {
      "text/plain": [
       "(17.07825127659933, 2.8284271247461903)"
      ]
     },
     "execution_count": 31,
     "metadata": {},
     "output_type": "execute_result"
    }
   ],
   "source": [
    "Hvar=np.array([0,10,20,30,40,50])\n",
    "Lvar=np.array([2,4,6,8,10])\n",
    "Hvar.std(),Lvar.std()"
   ]
  },
  {
   "cell_type": "code",
   "execution_count": 34,
   "id": "11a868d4",
   "metadata": {},
   "outputs": [
    {
     "data": {
      "text/plain": [
       "(array([1., 0., 1., 0., 0., 1., 0., 1., 0., 1.]),\n",
       " array([ 2. ,  2.8,  3.6,  4.4,  5.2,  6. ,  6.8,  7.6,  8.4,  9.2, 10. ]),\n",
       " <BarContainer object of 10 artists>)"
      ]
     },
     "execution_count": 34,
     "metadata": {},
     "output_type": "execute_result"
    },
    {
     "data": {
      "image/png": "[encoded data removed]",
      "text/plain": [
       "<Figure size 1008x504 with 2 Axes>"
      ]
     },
     "metadata": {
      "needs_background": "light"
     },
     "output_type": "display_data"
    }
   ],
   "source": [
    "#visual Dem\n",
    "_,ax=plt.subplots(1,2,figsize=(14,7))\n",
    "ax[0].hist(Hvar)\n",
    "\n",
    "ax[1].hist(Lvar)"
   ]
  },
  {
   "cell_type": "code",
   "execution_count": 35,
   "id": "7cb9a5b9",
   "metadata": {},
   "outputs": [
    {
     "data": {
      "text/plain": [
       "array([1, 2, 3])"
      ]
     },
     "execution_count": 35,
     "metadata": {},
     "output_type": "execute_result"
    }
   ],
   "source": [
    "Arr"
   ]
  },
  {
   "cell_type": "code",
   "execution_count": 36,
   "id": "fae4802a",
   "metadata": {},
   "outputs": [
    {
     "data": {
      "text/plain": [
       "array([[1, 2, 3],\n",
       "       [4, 5, 6]])"
      ]
     },
     "execution_count": 36,
     "metadata": {},
     "output_type": "execute_result"
    }
   ],
   "source": [
    "Arr1"
   ]
  },
  {
   "cell_type": "code",
   "execution_count": 37,
   "id": "597a7841",
   "metadata": {},
   "outputs": [
    {
     "data": {
      "text/plain": [
       "(3,)"
      ]
     },
     "execution_count": 37,
     "metadata": {},
     "output_type": "execute_result"
    }
   ],
   "source": [
    "Arr.shape"
   ]
  },
  {
   "cell_type": "code",
   "execution_count": 38,
   "id": "65493ed2",
   "metadata": {},
   "outputs": [
    {
     "data": {
      "text/plain": [
       "(2, 3)"
      ]
     },
     "execution_count": 38,
     "metadata": {},
     "output_type": "execute_result"
    }
   ],
   "source": [
    "Arr1.shape"
   ]
  },
  {
   "cell_type": "code",
   "execution_count": 41,
   "id": "d7896cb5",
   "metadata": {},
   "outputs": [
    {
     "data": {
      "text/plain": [
       "array([[1, 2, 3]])"
      ]
     },
     "execution_count": 41,
     "metadata": {},
     "output_type": "execute_result"
    }
   ],
   "source": [
    "Arr.reshape(1,3)"
   ]
  },
  {
   "cell_type": "code",
   "execution_count": 42,
   "id": "a962a2b0",
   "metadata": {},
   "outputs": [
    {
     "data": {
      "text/plain": [
       "array([[1, 2],\n",
       "       [3, 4],\n",
       "       [5, 6]])"
      ]
     },
     "execution_count": 42,
     "metadata": {},
     "output_type": "execute_result"
    }
   ],
   "source": [
    "Arr1.reshape(3,2)"
   ]
  },
  {
   "cell_type": "markdown",
   "id": "ca756391",
   "metadata": {},
   "source": [
    "## Dot product example(nut-butter sale)"
   ]
  },
  {
   "cell_type": "code",
   "execution_count": 43,
   "id": "234d1d06",
   "metadata": {},
   "outputs": [
    {
     "name": "stdout",
     "output_type": "stream",
     "text": [
      "[[12 15  0]\n",
      " [ 3  3  7]\n",
      " [ 9 19 18]\n",
      " [ 4  6 12]\n",
      " [ 1  6  7]]\n"
     ]
    }
   ],
   "source": [
    "np.random.seed(0)\n",
    "sales_amounts=np.random.randint(20,size=(5,3))\n",
    "print(sales_amounts)"
   ]
  },
  {
   "cell_type": "code",
   "execution_count": 50,
   "id": "2cb6dfeb",
   "metadata": {},
   "outputs": [
    {
     "data": {
      "text/html": [
       "<div>\n",
       "<style scoped>\n",
       "    .dataframe tbody tr th:only-of-type {\n",
       "        vertical-align: middle;\n",
       "    }\n",
       "\n",
       "    .dataframe tbody tr th {\n",
       "        vertical-align: top;\n",
       "    }\n",
       "\n",
       "    .dataframe thead th {\n",
       "        text-align: right;\n",
       "    }\n",
       "</style>\n",
       "<table border=\"1\" class=\"dataframe\">\n",
       "  <thead>\n",
       "    <tr style=\"text-align: right;\">\n",
       "      <th></th>\n",
       "      <th>Almond bvutter</th>\n",
       "      <th>Peanut butter</th>\n",
       "      <th>cashew butter</th>\n",
       "    </tr>\n",
       "  </thead>\n",
       "  <tbody>\n",
       "    <tr>\n",
       "      <th>mon</th>\n",
       "      <td>12</td>\n",
       "      <td>15</td>\n",
       "      <td>0</td>\n",
       "    </tr>\n",
       "    <tr>\n",
       "      <th>tue</th>\n",
       "      <td>3</td>\n",
       "      <td>3</td>\n",
       "      <td>7</td>\n",
       "    </tr>\n",
       "    <tr>\n",
       "      <th>wed</th>\n",
       "      <td>9</td>\n",
       "      <td>19</td>\n",
       "      <td>18</td>\n",
       "    </tr>\n",
       "    <tr>\n",
       "      <th>thur</th>\n",
       "      <td>4</td>\n",
       "      <td>6</td>\n",
       "      <td>12</td>\n",
       "    </tr>\n",
       "    <tr>\n",
       "      <th>fri</th>\n",
       "      <td>1</td>\n",
       "      <td>6</td>\n",
       "      <td>7</td>\n",
       "    </tr>\n",
       "  </tbody>\n",
       "</table>\n",
       "</div>"
      ],
      "text/plain": [
       "      Almond bvutter  Peanut butter  cashew butter\n",
       "mon               12             15              0\n",
       "tue                3              3              7\n",
       "wed                9             19             18\n",
       "thur               4              6             12\n",
       "fri                1              6              7"
      ]
     },
     "execution_count": 50,
     "metadata": {},
     "output_type": "execute_result"
    }
   ],
   "source": [
    "import pandas as pd\n",
    "weekly_sales=pd.DataFrame(sales_amounts,\n",
    "                         index=['mon','tue','wed','thur','fri'],\n",
    "                         columns=['Almond bvutter','Peanut butter','cashew butter'])\n",
    "weekly_sales"
   ]
  },
  {
   "cell_type": "code",
   "execution_count": 52,
   "id": "4b60b6f0",
   "metadata": {},
   "outputs": [
    {
     "data": {
      "text/plain": [
       "array([[7, 8, 1],\n",
       "       [5, 9, 8],\n",
       "       [9, 4, 3]])"
      ]
     },
     "execution_count": 52,
     "metadata": {},
     "output_type": "execute_result"
    }
   ],
   "source": [
    "a=np.random.randint(10,size=(3,3))\n",
    "a"
   ]
  },
  {
   "cell_type": "code",
   "execution_count": 53,
   "id": "426232b2",
   "metadata": {},
   "outputs": [
    {
     "data": {
      "text/plain": [
       "array([[0, 3, 5],\n",
       "       [0, 2, 3],\n",
       "       [8, 1, 3]])"
      ]
     },
     "execution_count": 53,
     "metadata": {},
     "output_type": "execute_result"
    }
   ],
   "source": [
    "a2=np.random.randint(10,size=(3,3))\n",
    "a2"
   ]
  },
  {
   "cell_type": "code",
   "execution_count": 54,
   "id": "0d894219",
   "metadata": {},
   "outputs": [
    {
     "data": {
      "text/plain": [
       "array([[False, False, False],\n",
       "       [False, False, False]])"
      ]
     },
     "execution_count": 54,
     "metadata": {},
     "output_type": "execute_result"
    }
   ],
   "source": [
    "Arr>Arr1"
   ]
  },
  {
   "cell_type": "code",
   "execution_count": 56,
   "id": "d91b6aa6",
   "metadata": {},
   "outputs": [
    {
     "data": {
      "text/plain": [
       "array([[ True,  True, False],\n",
       "       [ True,  True,  True],\n",
       "       [ True,  True, False]])"
      ]
     },
     "execution_count": 56,
     "metadata": {},
     "output_type": "execute_result"
    }
   ],
   "source": [
    "a>a2"
   ]
  },
  {
   "cell_type": "code",
   "execution_count": 57,
   "id": "f4bbdb94",
   "metadata": {},
   "outputs": [
    {
     "data": {
      "text/plain": [
       "array([[False, False,  True],\n",
       "       [False, False, False],\n",
       "       [False, False, False]])"
      ]
     },
     "execution_count": 57,
     "metadata": {},
     "output_type": "execute_result"
    }
   ],
   "source": [
    "a<a2"
   ]
  },
  {
   "cell_type": "code",
   "execution_count": 59,
   "id": "6bec1c71",
   "metadata": {},
   "outputs": [
    {
     "data": {
      "text/plain": [
       "array([[1, 7, 8],\n",
       "       [5, 8, 9],\n",
       "       [3, 4, 9]])"
      ]
     },
     "execution_count": 59,
     "metadata": {},
     "output_type": "execute_result"
    }
   ],
   "source": [
    "Sa=np.sort(a)\n",
    "Sa"
   ]
  },
  {
   "cell_type": "code",
   "execution_count": 1,
   "id": "b8a84243",
   "metadata": {},
   "outputs": [
    {
     "name": "stdout",
     "output_type": "stream",
     "text": [
      "south\n"
     ]
    }
   ],
   "source": [
    "import turtle\n",
    "wn = turtle.Screen()        # creates a graphics window\n",
    "wn.setup(540,508)           # set window dimension\n",
    "\n",
    "alex = turtle.Turtle()      # create a turtle named alex\n",
    "alex.shape(\"turtle\")        # alex looks like a turtle\n",
    "alex.color(\"blue\")          # alex has a color\n",
    "\n",
    "'''\n",
    "alex.backward(50)            # alex moves 50 positions backward\n",
    "alex.forward(50)             # alex moves 50 positions forward\n",
    "alex.right(60)               # alex turns 60 degrees right\n",
    "alex.left(60)                # alex turns 60 degrees left\n",
    "alex.write(\"Hello\")          # alex says \"Hello\"\n",
    "'''\n",
    "\n",
    "#Write the logic to take the turtle to its destination\n",
    "#Refer the statements given above to draw the pattern\n",
    "#Provide different values and test your program\n",
    "destination=input()\n",
    "if destination==\"north\":\n",
    "    alex.left(90)\n",
    "    alex.forward(50)\n",
    "elif destination==\"south\":\n",
    "    alex.right(90)\n",
    "    alex.forward(60)\n",
    "elif destination==\"east\":\n",
    "    alex.forward(60)\n",
    "elif destination==\"west\":\n",
    "    alex.left(180)\n",
    "    alex.forward(60)\n",
    "else:\n",
    "    alex.write(\"Invalid Destination\")\n",
    "                        \n",
    "        "
   ]
  },
  {
   "cell_type": "markdown",
   "id": "bd8850b1",
   "metadata": {},
   "source": [
    "## Sum of Digits"
   ]
  },
  {
   "cell_type": "code",
   "execution_count": 7,
   "id": "0c464eff",
   "metadata": {},
   "outputs": [
    {
     "name": "stdout",
     "output_type": "stream",
     "text": [
      "Sum of digits: 4\n"
     ]
    }
   ],
   "source": [
    "def find_sum_of_digits(number):\n",
    "    sum_of_digits=0\n",
    "    #Write your logic here\n",
    "    for i in str(number):\n",
    "        sum_of_digits=sum_of_digits+int(i)\n",
    "    return sum_of_digits\n",
    "\n",
    "#Provide different values for number and test your program\n",
    "sum_of_digits=find_sum_of_digits(2002)\n",
    "print(\"Sum of digits:\",sum_of_digits)"
   ]
  },
  {
   "cell_type": "code",
   "execution_count": 1,
   "id": "64915554",
   "metadata": {},
   "outputs": [
    {
     "name": "stdout",
     "output_type": "stream",
     "text": [
      "4\n",
      "2\n",
      "[1,3,2,4]\n"
     ]
    },
    {
     "ename": "ValueError",
     "evalue": "invalid literal for int() with base 10: '[1,3,2,4]'",
     "output_type": "error",
     "traceback": [
      "\u001b[1;31m---------------------------------------------------------------------------\u001b[0m",
      "\u001b[1;31mValueError\u001b[0m                                Traceback (most recent call last)",
      "\u001b[1;32mC:\\Users\\KVS~1.SSA\\AppData\\Local\\Temp/ipykernel_5560/379509949.py\u001b[0m in \u001b[0;36m<module>\u001b[1;34m\u001b[0m\n\u001b[0;32m      5\u001b[0m \u001b[0mx\u001b[0m\u001b[1;33m=\u001b[0m\u001b[0mint\u001b[0m\u001b[1;33m(\u001b[0m\u001b[0minput\u001b[0m\u001b[1;33m(\u001b[0m\u001b[1;33m)\u001b[0m\u001b[1;33m)\u001b[0m\u001b[1;33m\u001b[0m\u001b[1;33m\u001b[0m\u001b[0m\n\u001b[0;32m      6\u001b[0m \u001b[1;32mfor\u001b[0m \u001b[0mi\u001b[0m \u001b[1;32min\u001b[0m \u001b[0mrange\u001b[0m\u001b[1;33m(\u001b[0m\u001b[0mn\u001b[0m\u001b[1;33m)\u001b[0m\u001b[1;33m:\u001b[0m\u001b[1;33m\u001b[0m\u001b[1;33m\u001b[0m\u001b[0m\n\u001b[1;32m----> 7\u001b[1;33m     \u001b[0mv\u001b[0m\u001b[1;33m[\u001b[0m\u001b[0mi\u001b[0m\u001b[1;33m]\u001b[0m\u001b[1;33m=\u001b[0m\u001b[0mint\u001b[0m\u001b[1;33m(\u001b[0m\u001b[0minput\u001b[0m\u001b[1;33m(\u001b[0m\u001b[1;33m)\u001b[0m\u001b[1;33m)\u001b[0m\u001b[1;33m\u001b[0m\u001b[1;33m\u001b[0m\u001b[0m\n\u001b[0m\u001b[0;32m      8\u001b[0m \u001b[1;33m\u001b[0m\u001b[0m\n\u001b[0;32m      9\u001b[0m \u001b[1;32mfor\u001b[0m \u001b[0mi\u001b[0m \u001b[1;32min\u001b[0m \u001b[0mrange\u001b[0m\u001b[1;33m(\u001b[0m\u001b[0mn\u001b[0m\u001b[1;33m)\u001b[0m\u001b[1;33m:\u001b[0m\u001b[1;33m\u001b[0m\u001b[1;33m\u001b[0m\u001b[0m\n",
      "\u001b[1;31mValueError\u001b[0m: invalid literal for int() with base 10: '[1,3,2,4]'"
     ]
    }
   ],
   "source": [
    "n=int(input())\n",
    "m=0\n",
    "mxPos=0\n",
    "v=[0]*n\n",
    "x=int(input())\n",
    "for i in range(n):\n",
    "    v[i]=int(input())\n",
    "\n",
    "for i in range(n):\n",
    "    v[i]=(v[i]-1)//x\n",
    "for i in range(n):\n",
    "    if v[i]>=m:\n",
    "        m=v[i]\n",
    "        mxPos=i\n",
    "\n",
    "print(mxPos+1)"
   ]
  },
  {
   "cell_type": "code",
   "execution_count": 10,
   "id": "da36d76f",
   "metadata": {},
   "outputs": [
    {
     "data": {
      "text/plain": [
       "'value1'"
      ]
     },
     "execution_count": 10,
     "metadata": {},
     "output_type": "execute_result"
    }
   ],
   "source": [
    "dict1={'key1':\"value1\",\n",
    "      'key2':\"Value2\",\n",
    "      'key3':\"Value3\"}\n",
    "print(dict1['key1'])"
   ]
  },
  {
   "cell_type": "markdown",
   "id": "246209e8",
   "metadata": {},
   "source": [
    "## Exception handling"
   ]
  },
  {
   "cell_type": "code",
   "execution_count": 1,
   "id": "604a0998",
   "metadata": {},
   "outputs": [
    {
     "ename": "SyntaxError",
     "evalue": "invalid non-printable character U+00A0 (Temp/ipykernel_4812/2656212520.py, line 2)",
     "output_type": "error",
     "traceback": [
      "\u001b[1;36m  File \u001b[1;32m\"C:\\Users\\KVS~1.SSA\\AppData\\Local\\Temp/ipykernel_4812/2656212520.py\"\u001b[1;36m, line \u001b[1;32m2\u001b[0m\n\u001b[1;33m    total=0\u001b[0m\n\u001b[1;37m    ^\u001b[0m\n\u001b[1;31mSyntaxError\u001b[0m\u001b[1;31m:\u001b[0m invalid non-printable character U+00A0\n"
     ]
    }
   ],
   "source": [
    "def calculate_expenditure(list_of_expenditure):\n",
    "    total=0\n",
    "    try:\n",
    "        for expenditure in list_of_expenditure:\n",
    "            total+=expenditure\n",
    "        print(\"Total:\",total)\n",
    "        avg=total/num_values\n",
    "        print(\"Average:\",avg)\n",
    "    except ZeroDivisionError:\n",
    "        print(\"Divide by Zero error\")\n",
    "    except TypeError:\n",
    "        print(\"Wrong data type\")\n",
    "    except:\n",
    "        print(\"Some error occured\")\n",
    "list_of_values=[100,200,300,\"400\",500]\n",
    "num_values=0\n",
    "calculate_expenditure(list_of_values)\n"
   ]
  },
  {
   "cell_type": "markdown",
   "id": "9aa80215",
   "metadata": {},
   "source": [
    "## Single inheritence "
   ]
  },
  {
   "cell_type": "code",
   "execution_count": 22,
   "id": "221cc05f",
   "metadata": {},
   "outputs": [
    {
     "name": "stdout",
     "output_type": "stream",
     "text": [
      "Top speed of the bike is  120\n"
     ]
    }
   ],
   "source": [
    "class car:\n",
    "    def __init__(self,x):\n",
    "        self.a=x\n",
    "    def spec(self):\n",
    "        print(\"The top speed is\",self.a)\n",
    "class bike(car):\n",
    "    def specb(self):\n",
    "        print(\"Top speed of the bike is \",self.a)\n",
    "honda=car(120)\n",
    "bmw=car(200)\n",
    "bike.specb(honda)"
   ]
  },
  {
   "cell_type": "code",
   "execution_count": 2,
   "id": "7d2275bd",
   "metadata": {},
   "outputs": [
    {
     "name": "stdout",
     "output_type": "stream",
     "text": [
      "h@ello\n",
      " olle@h\n"
     ]
    }
   ],
   "source": [
    "a=input()\n",
    "s=\" \"\n",
    "for i in range(1,len(a)+1):\n",
    "    if(i=='#' or i=='@' or i=='$' or i=='^' or i=='&'):\n",
    "        continue\n",
    "    else:\n",
    "        s+=a[-i]\n",
    "print(s)\n",
    "       "
   ]
  },
  {
   "cell_type": "markdown",
   "id": "594d4c01",
   "metadata": {},
   "source": [
    "### OOPS (Object oriented programming)"
   ]
  },
  {
   "cell_type": "markdown",
   "id": "75eacfef",
   "metadata": {},
   "source": [
    "1.class\n",
    "2.object\n",
    "3.inheritence\n",
    "4.abstraction\n",
    "5.polymorphism\n",
    "6.Access Modifiers\n",
    "7.interface\n",
    "8.encapsulation\n",
    "9.abstract class"
   ]
  },
  {
   "cell_type": "markdown",
   "id": "1924564e",
   "metadata": {},
   "source": [
    "#### Basic Structure of oops\n",
    "\n",
    "Class\n",
    "\n",
    "objects\n",
    "\n",
    "methods\n",
    "\n",
    "constructors"
   ]
  },
  {
   "cell_type": "code",
   "execution_count": null,
   "id": "46dd1fb5",
   "metadata": {},
   "outputs": [],
   "source": [
    "#Program in Java.\n",
    "'''\n",
    "import java.util.*;\n",
    " class Sridhar{\n",
    "     Scanner Sc=new Scanner(System.in);\n",
    "     name=\"\"\n",
    "     int a =0\n",
    "     pubic void get_details{\n",
    "        System.out.println(\"Enter name of the Student : \");\n",
    "        name=Sc.nextLine();\n",
    "        System.out.println(\"Enter marks of the Student: \");\n",
    "        a=Sc.nextInt();\n",
    "    }\n",
    "    public void display_details{\n",
    "    System.out.println(\"The name of the Student : \"+name);\n",
    "    System.out.println(\"The marks of the student is: \"+a);\n",
    "    }\n",
    "    \n",
    "         Public static void main(String args[]){\n",
    "         \n",
    "         get_details();\n",
    "         display_details();\n",
    "         \n",
    "         }\n",
    " }\n",
    "'''\n",
    "#OUTPUT:  \n",
    "'''\n",
    "Enter name of the Student : _____\n",
    "Enter marks of the student:_____\n",
    "\n",
    "Result:\n",
    "name of the student is : ____\n",
    "marks of the student is :____\n",
    "'''"
   ]
  },
  {
   "cell_type": "code",
   "execution_count": 21,
   "id": "58acd9f9",
   "metadata": {},
   "outputs": [
    {
     "name": "stdout",
     "output_type": "stream",
     "text": [
      "5\n",
      "10\n",
      "Sum is:  15\n"
     ]
    }
   ],
   "source": [
    "#program on python \n",
    "class Name:\n",
    "    def userinput(self):\n",
    "        self.a=int(input())\n",
    "        self.b=int(input())\n",
    "    def display(self):\n",
    "        print(\"Sum is: \",self.a+self.b)\n",
    "sushma=Name()\n",
    "sushma.userinput()\n",
    "sushma.display()"
   ]
  },
  {
   "cell_type": "code",
   "execution_count": 16,
   "id": "4e284144",
   "metadata": {},
   "outputs": [
    {
     "name": "stdout",
     "output_type": "stream",
     "text": [
      "Hi my name is :  Rahul\n",
      "My Roll number is :  12\n",
      "Hi my name is :  Raj\n",
      "My Roll number is :  14\n"
     ]
    }
   ],
   "source": [
    "class students:\n",
    "    def __init__(self,name,roll):\n",
    "        self.name=name\n",
    "        self.roll=roll\n",
    "    def Displaying(self):\n",
    "        print(\"Hi my name is : \",self.name)\n",
    "        print(\"My Roll number is : \",self.roll)\n",
    "        \n",
    "Obj=students(\"Rahul\",12)\n",
    "Obj.Displaying()\n",
    "Obj1=students(\"Raj\",14)\n",
    "Obj1.Displaying()\n",
    "        "
   ]
  },
  {
   "cell_type": "code",
   "execution_count": 27,
   "id": "5b1027c7",
   "metadata": {},
   "outputs": [
    {
     "name": "stdout",
     "output_type": "stream",
     "text": [
      "7\n"
     ]
    }
   ],
   "source": [
    "class change:\n",
    "    def __init__(self,x,y,z):\n",
    "        self.a=x+y+z\n",
    "        \n",
    "x=change(1,2,3)\n",
    "y=getattr(x,'a')\n",
    "setattr(x,'a',y+1)\n",
    "print(x.a)"
   ]
  },
  {
   "cell_type": "code",
   "execution_count": null,
   "id": "06b161c8",
   "metadata": {},
   "outputs": [],
   "source": [
    "#Syntax of inheritence\n",
    "'''\n",
    "class DerivedClassName(BaseClassName):\n",
    "statement-1\n",
    "statement-1\n",
    "....\n",
    "....\n",
    "....\n",
    "statement-n\n",
    "\n",
    "'''"
   ]
  },
  {
   "cell_type": "code",
   "execution_count": 37,
   "id": "0312f9f1",
   "metadata": {},
   "outputs": [
    {
     "name": "stdout",
     "output_type": "stream",
     "text": [
      "4 3 2 1 "
     ]
    }
   ],
   "source": [
    "l=[1,2,3,4]\n",
    "for i in l[::-1]:\n",
    "    print(i,end=\" \")"
   ]
  },
  {
   "cell_type": "code",
   "execution_count": 7,
   "id": "77505d3c",
   "metadata": {},
   "outputs": [
    {
     "name": "stdout",
     "output_type": "stream",
     "text": [
      "3\n",
      "11 22 33\n",
      "44 55 66\n",
      "77 88 99\n",
      "11\n",
      "\n",
      " The Given Matrix is:\n",
      "\n",
      "11 22 33\n",
      "44 55 66\n",
      "77 88 99\n",
      "2\n"
     ]
    }
   ],
   "source": [
    "\n",
    "n=int(input())\n",
    "a=[]\n",
    "for i in range(n):\n",
    "    temp=list(map(int,input().split()))\n",
    "    a.append(temp)\n",
    "x=int(input())\n",
    "print(\"\\n The Given Matrix is:\\n\")\n",
    "for i in a:\n",
    "    print(*i)\n",
    "for i in range(n):\n",
    "    for j in range(n):\n",
    "        if a[i][j]==x:\n",
    "            r=i\n",
    "            c=j\n",
    "            break\n",
    "s=r+c\n",
    "temp=(s+r)%n\n",
    "p=a[temp][c]\n",
    "ans=0\n",
    "for i in str(p):\n",
    "    ans+=int(i)\n",
    "print(ans)"
   ]
  },
  {
   "cell_type": "code",
   "execution_count": null,
   "id": "543fd7c9",
   "metadata": {},
   "outputs": [],
   "source": []
  }
 ],
 "metadata": {
  "kernelspec": {
   "display_name": "Python 3 (ipykernel)",
   "language": "python",
   "name": "python3"
  },
  "language_info": {
   "codemirror_mode": {
    "name": "ipython",
    "version": 3
   },
   "file_extension": ".py",
   "mimetype": "text/x-python",
   "name": "python",
   "nbconvert_exporter": "python",
   "pygments_lexer": "ipython3",
   "version": "3.9.7"
  }
 },
 "nbformat": 4,
 "nbformat_minor": 5
}
