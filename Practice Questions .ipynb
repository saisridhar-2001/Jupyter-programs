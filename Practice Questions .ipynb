{
 "cells": [
  {
   "cell_type": "code",
   "execution_count": 7,
   "id": "1fccb5bd",
   "metadata": {},
   "outputs": [
    {
     "name": "stdout",
     "output_type": "stream",
     "text": [
      "Enter number of Monkeys : 0\n",
      "Enter number number of eatable peanuts by 1 monkey : 2\n",
      "Enter number of bananas eatable by money: 3\n",
      "Total number of Bananas : 12\n",
      "Total number of Peanuts: 12\n",
      "Invalid input\n"
     ]
    }
   ],
   "source": [
    "k=int(input(\"Enter number of Monkeys : \"))\n",
    "j=int(input(\"Enter number number of eatable peanuts by 1 monkey : \"))\n",
    "l=int(input(\"Enter number of bananas eatable by money: \"))\n",
    "m=int(input(\"Total number of Bananas : \"))\n",
    "n=int(input(\"Total number of Peanuts: \"))\n",
    "if (k==0 or j==0 or l==0 or m==0 or n==0):\n",
    "    print(\"Invalid input\")\n",
    "else:\n",
    "    if k>0 :\n",
    "        K=float(m/k)\n",
    "        J=j-float(n/j)\n",
    "        Ans=k-K-j\n",
    "    elif(m!=0 or n!=0):\n",
    "        Ans=Ans-1\n",
    "    print(Ans)\n",
    "        \n",
    "    \n"
   ]
  },
  {
   "cell_type": "code",
   "execution_count": 14,
   "id": "da4c1af4",
   "metadata": {},
   "outputs": [
    {
     "name": "stdout",
     "output_type": "stream",
     "text": [
      "4\n",
      "2\n",
      "12.3\n",
      "15.2\n",
      "12.3\n",
      "15.2\n",
      "10.10\n",
      "10.00\n",
      "1331.7\n"
     ]
    }
   ],
   "source": [
    "I=int(input())\n",
    "E=int(input())\n",
    "L1=[]\n",
    "S=0\n",
    "C=0\n",
    "L2=[]\n",
    "for i in range(0,I):\n",
    "    A=float(input())\n",
    "    L1.append(A)\n",
    "for j in range(0,E):\n",
    "    B=float(input())\n",
    "    L2.append(B)\n",
    "for I in range(len(L1)):\n",
    "    L1[I]=L1[I]*18\n",
    "    S+=L1[I]\n",
    "for J in range(len(L2)):\n",
    "    L2[J]=L2[J]*17\n",
    "    C+=L2[J]\n",
    "print(S+C)\n",
    "    \n",
    "    "
   ]
  },
  {
   "cell_type": "code",
   "execution_count": 17,
   "id": "0b0f76c0",
   "metadata": {},
   "outputs": [
    {
     "name": "stdout",
     "output_type": "stream",
     "text": [
      "0\n",
      "90\n",
      "93\n",
      "92\n",
      "90\n",
      "94\n",
      "95\n",
      "90\n",
      "93\n",
      "Trainee number : 3\n"
     ]
    }
   ],
   "source": [
    "L1=[]\n",
    "L2=[]\n",
    "L3=[]\n",
    "W=0\n",
    "X=0\n",
    "Y=0\n",
    "for i in range(0,3):\n",
    "    S=int(input())\n",
    "    if S>1 and S<100:\n",
    "        L1.append(S)\n",
    "    \n",
    "for j in range(0,3):\n",
    "    T=int(input())\n",
    "    if T>1 and T<100:\n",
    "        L2.append(T)\n",
    "    else:\n",
    "        continue\n",
    "for k in range(0,3):\n",
    "        U=int(input())\n",
    "        if U>1 and U<100:\n",
    "            L3.append(U)\n",
    "        else:\n",
    "            continue\n",
    "for i in range(len(L1)):\n",
    "    W+=L1[i]\n",
    "    A=W/len(L1)\n",
    "for j in range(len(L2)):\n",
    "    X+=L2[j]\n",
    "    B=X/len(L2)\n",
    "for k in range(len(L3)):\n",
    "    Y+=L3[k]\n",
    "    C=Y/len(L3)\n",
    "    \n",
    "if A>B and A>C:\n",
    "    print(\"Trainee number : 1\" )\n",
    "elif B>A and B>C:\n",
    "    print(\"Trainee number : 2\")\n",
    "elif A==B and A>C:\n",
    "    print(\"Trainee number: 1\")\n",
    "    print(\"Trinee number: 2\")\n",
    "elif A==C and A>B:\n",
    "    print(\"Trainee number : 1\")\n",
    "    print(\"Trainee Number : 3\")\n",
    "elif B==C and B>A:\n",
    "    print(\"Trainee number : 2\")\n",
    "    print(\"Trainee Number : 3\")\n",
    "else:\n",
    "    print(\"Trainee number : 3\")\n",
    "    \n",
    "\n",
    "#BUT DUE TO EXCESS OF CONTROL & CONDITIONAL STATEMENTS THIS CODE MAY NOT BE SUCCESSFUL IN LONG RUN"
   ]
  },
  {
   "cell_type": "code",
   "execution_count": 2,
   "id": "b6bf22b6",
   "metadata": {},
   "outputs": [
    {
     "name": "stdout",
     "output_type": "stream",
     "text": [
      "6\n",
      "6\n",
      "1\n",
      "8\n",
      "2\n",
      "0\n",
      "4\n",
      "6 1 8 2 4 0 "
     ]
    }
   ],
   "source": [
    "n=int(input())\n",
    "j=0\n",
    "l=[0 for i in range(n)]\n",
    "for i  in range(n):\n",
    "    a=int(input())\n",
    "    if a!=0:\n",
    "        l[j]=a\n",
    "        j+=1\n",
    "for i in l:\n",
    "    print(i,end=\" \")"
   ]
  },
  {
   "cell_type": "code",
   "execution_count": 6,
   "id": "64b884c7",
   "metadata": {},
   "outputs": [
    {
     "name": "stdout",
     "output_type": "stream",
     "text": [
      "19\n",
      "18\n"
     ]
    }
   ],
   "source": [
    "n=int(input())\n",
    "if n%2==0:\n",
    "    n=n//2\n",
    "    n=2*(n-1)\n",
    "    print(n//2)\n",
    "else:\n",
    "    n=(n//2)+1\n",
    "    n=2*(n-1)\n",
    "    print(n)"
   ]
  },
  {
   "cell_type": "code",
   "execution_count": 2,
   "id": "b2715c7f",
   "metadata": {},
   "outputs": [
    {
     "name": "stdout",
     "output_type": "stream",
     "text": [
      "3\n",
      "1 2 3\n",
      "1 4 2\n",
      "[[1, 2, 3], [1, 4, 2]]\n"
     ]
    }
   ],
   "source": [
    "x=int(input())\n",
    "L=[]\n",
    "for i in range(0,n):\n",
    "    A=list(map(int,input().split()))\n",
    "    L.append(A)\n",
    "for e in range(len(L)):\n",
    "    "
   ]
  },
  {
   "cell_type": "markdown",
   "id": "80eef9f4",
   "metadata": {},
   "source": [
    "### Converting Decimal to Binary"
   ]
  },
  {
   "cell_type": "code",
   "execution_count": 1,
   "id": "0e6f2e53",
   "metadata": {},
   "outputs": [
    {
     "name": "stdout",
     "output_type": "stream",
     "text": [
      "19\n",
      "1 0 0 1 1 "
     ]
    }
   ],
   "source": [
    "def fun(a):\n",
    "    if a>1:\n",
    "        fun(a//2)\n",
    "    print(a%2,end=\" \")\n",
    "a=int(input())\n",
    "fun(a)"
   ]
  },
  {
   "cell_type": "markdown",
   "id": "37b058a8",
   "metadata": {},
   "source": [
    "### Converting Base 17 into the Decimal"
   ]
  },
  {
   "cell_type": "code",
   "execution_count": 9,
   "id": "f22e4fe7",
   "metadata": {},
   "outputs": [
    {
     "name": "stdout",
     "output_type": "stream",
     "text": [
      "1A\n",
      "27\n"
     ]
    }
   ],
   "source": [
    "k={'A':10,'B':11,'C':12,'D':13,'E':14,'F':15,'G':16}\n",
    "    \n",
    "x=input()\n",
    "y=len(x)-1\n",
    "z=0\n",
    "for i in x:\n",
    "    if i>'0' and i<='9':\n",
    "        z=z+17**y*int(i)\n",
    "        y=y-1\n",
    "    else:\n",
    "        z=z+17**y*k.get(i)\n",
    "        y=y-1\n",
    "print(z)  \n",
    "    "
   ]
  },
  {
   "cell_type": "code",
   "execution_count": 13,
   "id": "106f93a6",
   "metadata": {},
   "outputs": [
    {
     "name": "stdout",
     "output_type": "stream",
     "text": [
      "1A\n",
      "27\n"
     ]
    }
   ],
   "source": [
    "x=input()\n",
    "print(int(x,17))"
   ]
  },
  {
   "cell_type": "code",
   "execution_count": 5,
   "id": "cc67908f",
   "metadata": {},
   "outputs": [
    {
     "name": "stdout",
     "output_type": "stream",
     "text": [
      "4\n",
      "The Point is :  (-20, -20)\n"
     ]
    }
   ],
   "source": [
    "x=0\n",
    "y=0\n",
    "rem=0\n",
    "n=int(input())\n",
    "for i in range(0,n):\n",
    "    rem=i%4\n",
    "    if rem==0:\n",
    "        x=x+10*(i+1)\n",
    "    elif rem==1:\n",
    "        y=y+10*(i+1)\n",
    "    elif rem==2:\n",
    "        x=x-10*(i+1)\n",
    "    else:\n",
    "        y=y-10*(i+1)\n",
    "Ans=(x,y)\n",
    "print(\"The Point is : \",Ans)\n",
    "        "
   ]
  },
  {
   "cell_type": "markdown",
   "id": "5ff3d965",
   "metadata": {},
   "source": [
    "### Yesterday Coding Question"
   ]
  },
  {
   "cell_type": "markdown",
   "id": "30784f3c",
   "metadata": {},
   "source": [
    "##### INPUT\n",
    "3\n",
    "\n",
    "1 2 3\n",
    "\n",
    "4 5 6\n",
    "\n",
    "7 8 9\n",
    "\n",
    "##### OUTPUT\n",
    "1 2 3 4 5 6 7 8 9"
   ]
  },
  {
   "cell_type": "code",
   "execution_count": 1,
   "id": "8e0ed015",
   "metadata": {},
   "outputs": [
    {
     "name": "stdout",
     "output_type": "stream",
     "text": [
      "3\n",
      "1 2 3\n",
      "4 5 6\n",
      "7 8 9\n",
      "6\n"
     ]
    }
   ],
   "source": [
    "n=int(input())\n",
    "L=[]\n",
    "for i in range(0,n):\n",
    "    S=list(map(int,input().split()))\n",
    "    L.append(S)\n",
    "for i in range(n):\n",
    "    for j in range(n):\n",
    "        if(i!=0 and i==n-2 and j==n-1):\n",
    "            print(L[i][j])\n",
    "        \n"
   ]
  },
  {
   "cell_type": "code",
   "execution_count": 13,
   "id": "edf21f0b",
   "metadata": {},
   "outputs": [
    {
     "name": "stdout",
     "output_type": "stream",
     "text": [
      "5132\n",
      "5\n"
     ]
    }
   ],
   "source": [
    "n=input()\n",
    "A=list(n)\n",
    "E=0\n",
    "Od=0\n",
    "for i in range(len(A)):\n",
    "    if i%2==0:\n",
    "        E+=int(A[i])\n",
    "    else:\n",
    "        Od+=int(A[i])\n",
    "print(E-Od)\n",
    "        "
   ]
  },
  {
   "cell_type": "code",
   "execution_count": 16,
   "id": "2b638b4c",
   "metadata": {},
   "outputs": [
    {
     "name": "stdout",
     "output_type": "stream",
     "text": [
      "5132\n",
      "5\n"
     ]
    }
   ],
   "source": [
    "n=int(input())\n",
    "even=0 \n",
    "odd=0\n",
    "check=1\n",
    "while(n!=0):\n",
    "    if(check%2==0):\n",
    "        even=even+n%10\n",
    "    else:\n",
    "        odd=odd+(n%10)\n",
    "    n//=10\n",
    "    check=check+1\n",
    "re=abs(even-odd)\n",
    "print(re)"
   ]
  },
  {
   "cell_type": "code",
   "execution_count": 13,
   "id": "dec4f037",
   "metadata": {},
   "outputs": [
    {
     "name": "stdout",
     "output_type": "stream",
     "text": [
      "14 4\n",
      "105\n"
     ]
    }
   ],
   "source": [
    "n,k=map(int,input().split())\n",
    "S=n\n",
    "for i in range(1,k):\n",
    "    prev=S-1\n",
    "    S=S+prev\n",
    "print(S)"
   ]
  },
  {
   "cell_type": "code",
   "execution_count": 11,
   "id": "7789ce23",
   "metadata": {},
   "outputs": [
    {
     "name": "stdout",
     "output_type": "stream",
     "text": [
      "1 100\n",
      "001 002 003 004 005 006 007 008 009 010 011 012 013 014 015 016 017 018 019 020 021 022 023 024 025 026 027 028 029 030 031 032 033 034 035 036 037 038 039 040 041 042 043 044 045 046 047 048 049 050 051 052 053 054 055 056 057 058 059 060 061 062 063 064 065 066 067 068 069 070 071 072 073 074 075 076 077 078 079 080 081 082 083 084 085 086 087 088 089 090 091 092 093 094 095 096 097 098 099 100 "
     ]
    }
   ],
   "source": [
    "m,n=map(int,input().split())\n",
    "for i in range(m,n+1):\n",
    "    if(0<m and m<n and n<1000):\n",
    "        if(n>=100):\n",
    "            print(\"{:03d}\".format(i),end=\" \")\n",
    "        elif(n>=10):\n",
    "            print(\"{:02d}\".format(i),end=\" \")\n",
    "        else:\n",
    "            print(\"{:d}\".format(i),end=\" \")\n",
    "    else:\n",
    "        print(\"Invalid\")\n",
    "        break\n",
    "        \n",
    "    "
   ]
  },
  {
   "cell_type": "markdown",
   "id": "92e9fef0",
   "metadata": {},
   "source": [
    "### Number of Digit is Even  or Odd"
   ]
  },
  {
   "cell_type": "code",
   "execution_count": 13,
   "id": "881115f0",
   "metadata": {},
   "outputs": [
    {
     "name": "stdout",
     "output_type": "stream",
     "text": [
      "3\n"
     ]
    }
   ],
   "source": [
    "l=[22,298,2765,876,98,765,987]\n",
    "C=0\n",
    "for i in l:\n",
    "    if i>=10 and i<100:\n",
    "        C+=1\n",
    "    elif i>1000 and i<10000:\n",
    "        C+=1\n",
    "print(C)\n",
    "        \n"
   ]
  },
  {
   "cell_type": "code",
   "execution_count": 22,
   "id": "6f0dc7a8",
   "metadata": {},
   "outputs": [
    {
     "name": "stdout",
     "output_type": "stream",
     "text": [
      "abcd\n",
      "bcok\n",
      "False\n"
     ]
    }
   ],
   "source": [
    "S1=input()\n",
    "S2=input()\n",
    "C=0\n",
    "if(len(S1)==len(S2)):\n",
    "    for i in S1:\n",
    "        for j in S2:\n",
    "            if i==j:\n",
    "                C+=1\n",
    "    if C==len(S1):\n",
    "        print(\"True\")\n",
    "    else:\n",
    "            f=1\n",
    "            if f==1:\n",
    "                print(\"False\")\n",
    "else:\n",
    "    print(\"False\")\n",
    "                "
   ]
  },
  {
   "cell_type": "markdown",
   "id": "cbabeb2a",
   "metadata": {},
   "source": [
    "#### 21/07/2022 Coding Programs"
   ]
  },
  {
   "cell_type": "code",
   "execution_count": null,
   "id": "5583b833",
   "metadata": {},
   "outputs": [],
   "source": [
    "n=int(input())\n",
    "def unlock(n):\n",
    "    n=str(n)\n",
    "    S=sorted(n)\n",
    "    i=0\n",
    "    if S[i]==\"0\":\n",
    "        while S[i]==\"0\":\n",
    "            i+=1 \n",
    "        S[0],S[1]=S[1],S[0]\n",
    "        S=\"\".join(S)\n",
    "        S=int(S)\n",
    "        print(\"Unlocking Key:\",S)\n",
    "unlock(n)"
   ]
  },
  {
   "cell_type": "code",
   "execution_count": 4,
   "id": "b7aa87e9",
   "metadata": {},
   "outputs": [
    {
     "name": "stdout",
     "output_type": "stream",
     "text": [
      "2 3 4\n",
      "409600028672\n"
     ]
    }
   ],
   "source": [
    "S,N,M=map(int,input().split())\n",
    "a=S**N\n",
    "b=a%10\n",
    "c=b**M\n",
    "d=c*100000007\n",
    "print(d)"
   ]
  },
  {
   "cell_type": "code",
   "execution_count": 20,
   "id": "d66116c1",
   "metadata": {},
   "outputs": [
    {
     "name": "stdout",
     "output_type": "stream",
     "text": [
      "4\n",
      "\n",
      "1 \n",
      "2 * 2 \n",
      "3 * 3 * 3 \n",
      "4 * 4 * 4 * 4 \n",
      "4 * 4 * 4 * 4 \n",
      "3 * 3 * 3 \n",
      "2 * 2 \n",
      "1 \n"
     ]
    }
   ],
   "source": [
    "n=int(input())\n",
    "for i  in range(0,n+1):\n",
    "    k=1\n",
    "    for j in range(0,i):\n",
    "        print(i,end=\" \")\n",
    "        if (k<i):\n",
    "            print(\"*\",end=\" \")\n",
    "            k+=1\n",
    "    print()\n",
    "for i in range(n,0,-1):\n",
    "    k=1\n",
    "    for j in range(i):\n",
    "        print(i,end=\" \")\n",
    "        if(k<i):\n",
    "            print(\"*\",end=\" \")\n",
    "            k+=1\n",
    "    print()"
   ]
  },
  {
   "cell_type": "code",
   "execution_count": 5,
   "id": "f5f7fd09",
   "metadata": {},
   "outputs": [
    {
     "name": "stdout",
     "output_type": "stream",
     "text": [
      "3\n",
      "b1\n",
      "b10\n",
      "b11\n"
     ]
    }
   ],
   "source": [
    "n=int(input())\n",
    "for i in range(1,n+1):\n",
    "    B=bin(i)\n",
    "    print(B[1:])"
   ]
  },
  {
   "cell_type": "code",
   "execution_count": 12,
   "id": "11c6449c",
   "metadata": {},
   "outputs": [
    {
     "name": "stdout",
     "output_type": "stream",
     "text": [
      "4\n",
      "30\n",
      "[(5, 11), (7, 13), (11, 17), (13, 19), (17, 23), (23, 29)]\n",
      "6\n"
     ]
    }
   ],
   "source": [
    "n=int(input())\n",
    "m=int(input())\n",
    "primes=[]\n",
    "pairs=[]\n",
    "for i in range(n,m+1):\n",
    "    if i>1:\n",
    "        for j in range(2,i):\n",
    "            if i%j==0:\n",
    "                break\n",
    "        else:\n",
    "            primes.append(i)\n",
    "for j in primes:\n",
    "    if j+6 in primes:\n",
    "        pairs.append((j,j+6))\n",
    "print((pairs))\n",
    "print(len(pairs))"
   ]
  },
  {
   "cell_type": "markdown",
   "id": "d39679d7",
   "metadata": {},
   "source": [
    "#### Converting number into octa decimal value"
   ]
  },
  {
   "cell_type": "code",
   "execution_count": 4,
   "id": "25c51a28",
   "metadata": {},
   "outputs": [
    {
     "name": "stdout",
     "output_type": "stream",
     "text": [
      "Give a number for Octa decimal value: 15\n",
      "Octa Decimal Value of 15 is:  17 \n",
      "Binary  Value of 15 is:  1111 \n"
     ]
    }
   ],
   "source": [
    "n=int(input(\"Give a number for Octa decimal value: \"))\n",
    "Ans2=bin(n)\n",
    "Ans=oct(n)\n",
    "print(\"Octa Decimal Value of {0} is:  {1} \".format(n,Ans[2:]))\n",
    "print(\"Binary  Value of {0} is:  {1} \".format(n,Ans2[2:]))"
   ]
  },
  {
   "cell_type": "code",
   "execution_count": 23,
   "id": "4287f926",
   "metadata": {},
   "outputs": [
    {
     "name": "stdout",
     "output_type": "stream",
     "text": [
      "3\n",
      "\n",
      "3 \n",
      "3 2 \n",
      "3 2 1 \n"
     ]
    }
   ],
   "source": [
    "n=int(input())\n",
    "for i in range(n+1):\n",
    "    for j in range(0,i):\n",
    "        print(n-j,end=\" \")\n",
    "    print()"
   ]
  },
  {
   "cell_type": "code",
   "execution_count": 6,
   "id": "132dd415",
   "metadata": {},
   "outputs": [
    {
     "name": "stdout",
     "output_type": "stream",
     "text": [
      "book is book\n",
      "book\n",
      "['b', 'o', 'o', 'k', ' ', 'i', 's', ' ', 'b', 'o', 'o', 'k']\n"
     ]
    }
   ],
   "source": [
    "St=float(input())\n",
    "S=float(input()\n",
    "C=0\n",
    "L=[]\n",
    "if (S==St[len(St)-1] and St[len(St)]==\".\"):\n",
    "    print(\"Word not found\")\n",
    "else:\n",
    "    for i in St:\n",
    "        L.append(i)\n",
    "print(L)"
   ]
  },
  {
   "cell_type": "markdown",
   "id": "9a96a4be",
   "metadata": {},
   "source": [
    "### Coding Question programs on numbers "
   ]
  },
  {
   "cell_type": "code",
   "execution_count": 6,
   "id": "5530b8ed",
   "metadata": {},
   "outputs": [
    {
     "name": "stdout",
     "output_type": "stream",
     "text": [
      "Enter the Task you want to perform from P or R : P\n",
      "231\n",
      "No\n"
     ]
    }
   ],
   "source": [
    "#_1. Reversing an integer in python \n",
    "'''Palindrome Logic is applied here'''\n",
    "def reverse(n):\n",
    "    r=0\n",
    "    while(n>0):\n",
    "        rem=n%10\n",
    "        r=(r*10)+rem\n",
    "        n=n//10\n",
    "    return r\n",
    "def palindrome(n):\n",
    "    if n==reverse(n):\n",
    "        return \"Yes\"\n",
    "    else:\n",
    "        return \"No\"\n",
    "S=input(\"Enter the Task you want to perform from P or R : \")\n",
    "if S==\"P\":\n",
    "    n=int(input())\n",
    "    print(palindrome(n))\n",
    "elif S==\"R\":\n",
    "    n=int(input())\n",
    "    print(reverse(n))\n",
    "else:\n",
    "    print(\"Wrong Input Provided\")"
   ]
  },
  {
   "cell_type": "code",
   "execution_count": 11,
   "id": "4470bd93",
   "metadata": {},
   "outputs": [
    {
     "name": "stdout",
     "output_type": "stream",
     "text": [
      "663\n",
      "No\n"
     ]
    }
   ],
   "source": [
    "#_2. Program To check the number is an amstrong or not...?\n",
    "'''Amstrong Logic Implimentation'''\n",
    "n=int(input())\n",
    "som=0\n",
    "temp=n\n",
    "while temp>0:\n",
    "    d=temp%10\n",
    "    som+=d**3\n",
    "    temp//=10\n",
    "if n==som:\n",
    "    print(\"Yes\")\n",
    "else:\n",
    "    print(\"No\")"
   ]
  },
  {
   "cell_type": "code",
   "execution_count": 14,
   "id": "7e81cfdb",
   "metadata": {},
   "outputs": [
    {
     "name": "stdout",
     "output_type": "stream",
     "text": [
      "1\n",
      "21\n",
      "2\n",
      "3\n",
      "5\n",
      "7\n",
      "11\n",
      "13\n",
      "17\n",
      "19\n"
     ]
    }
   ],
   "source": [
    "lv=int(input())\n",
    "uv=int(input())\n",
    "for n in range(lv,uv+1):\n",
    "    if n>1:\n",
    "        for i in range(2,n):\n",
    "            if(n%i)==0:\n",
    "                break\n",
    "        else:\n",
    "            print(n)"
   ]
  },
  {
   "cell_type": "code",
   "execution_count": 8,
   "id": "8160e613",
   "metadata": {},
   "outputs": [
    {
     "name": "stdout",
     "output_type": "stream",
     "text": [
      "20\n",
      "1 2 3 4 5 6 7 11 12 13 14 15 16 17 18 19 20 "
     ]
    }
   ],
   "source": [
    "n=int(input())\n",
    "for i in range(1,n+1):\n",
    "    if i>7 and i<=10:\n",
    "        continue\n",
    "    print(i,end=\" \")"
   ]
  },
  {
   "cell_type": "code",
   "execution_count": 5,
   "id": "520407a9",
   "metadata": {},
   "outputs": [
    {
     "name": "stdout",
     "output_type": "stream",
     "text": [
      "saisridhar\n",
      "s --> 2\n",
      "a --> 2\n",
      "i --> 2\n",
      "r --> 2\n",
      "d --> 1\n",
      "h --> 1\n"
     ]
    }
   ],
   "source": [
    "n=input()\n",
    "d={}\n",
    "for i in n:\n",
    "    if i in d:\n",
    "        d[i]+=1\n",
    "    else:\n",
    "        d[i]=1\n",
    "\n",
    "for k,v in d.items():\n",
    "    print(k,\"-->\",v)"
   ]
  },
  {
   "cell_type": "code",
   "execution_count": 5,
   "id": "62ab8454",
   "metadata": {},
   "outputs": [
    {
     "name": "stdout",
     "output_type": "stream",
     "text": [
      "sai\n",
      "115 97 105 "
     ]
    }
   ],
   "source": [
    "x=input()\n",
    "for i in x:\n",
    "    S=ord(i)\n",
    "    print(S,end=\" \")"
   ]
  },
  {
   "cell_type": "code",
   "execution_count": 1,
   "id": "d5805152",
   "metadata": {},
   "outputs": [
    {
     "name": "stdout",
     "output_type": "stream",
     "text": [
      "145\n",
      "145\n"
     ]
    }
   ],
   "source": [
    "x=int(input())\n",
    "def fac(n):\n",
    "    if(n==1):\n",
    "        return 1\n",
    "    else:\n",
    "        return n*fac(n-1)\n",
    "def dig(x):\n",
    "    K=0\n",
    "    while(x>0):\n",
    "        f=x%10\n",
    "        K+=fac(f)\n",
    "        x=x//10\n",
    "    return K\n",
    "print(dig(x))"
   ]
  },
  {
   "cell_type": "code",
   "execution_count": 8,
   "id": "c70f61f4",
   "metadata": {},
   "outputs": [
    {
     "name": "stdout",
     "output_type": "stream",
     "text": [
      "123\n",
      "3 is repeated 1\n",
      "2 is repeated 1\n",
      "1 is repeated 1\n"
     ]
    }
   ],
   "source": [
    "x=int(input())\n",
    "k=[]\n",
    "while(x>0):\n",
    "    f=x%10\n",
    "    k.append(f)\n",
    "    x=x//10\n",
    "for i in k:\n",
    "    print(i,\"is repeated\",k.count(i))\n",
    "    "
   ]
  },
  {
   "cell_type": "code",
   "execution_count": 5,
   "id": "db6559ee",
   "metadata": {},
   "outputs": [
    {
     "name": "stdout",
     "output_type": "stream",
     "text": [
      "24\n"
     ]
    }
   ],
   "source": [
    "#Largest Array\n",
    "import array as arr\n",
    "a=arr.array('i',[3,24,11,2])\n",
    "print(max(a))"
   ]
  },
  {
   "cell_type": "code",
   "execution_count": 7,
   "id": "041879e7",
   "metadata": {},
   "outputs": [
    {
     "name": "stdout",
     "output_type": "stream",
     "text": [
      "2 3 5 7 11\n",
      "[5, 7, 11, 2, 3]\n"
     ]
    }
   ],
   "source": [
    "#Array Rotation\n",
    "def rotateArray(a,d):\n",
    "    temp=[]\n",
    "    n=len(a)\n",
    "    for i in range(d,n):\n",
    "        temp.append(a[i])\n",
    "    i=0\n",
    "    for i in range(0,d):\n",
    "        temp.append(a[i])\n",
    "    a=temp.copy()\n",
    "    return a\n",
    "arr=list(map(int,input().split()))\n",
    "print(rotateArray(arr,2))"
   ]
  },
  {
   "cell_type": "code",
   "execution_count": 8,
   "id": "b6d79ea2",
   "metadata": {},
   "outputs": [
    {
     "name": "stdout",
     "output_type": "stream",
     "text": [
      "2 3 5 7 11 15 19 21 23 27\n",
      "3\n",
      "[7, 11, 15, 19, 21, 23, 27, 2, 3, 5]\n"
     ]
    }
   ],
   "source": [
    "def slicing(a,d):\n",
    "    n=len(a)\n",
    "    a[:]=a[d:n]+a[0:d]\n",
    "    return a\n",
    "a=list(map(int,input().split()))\n",
    "d=int(input())\n",
    "print(slicing(a,d))"
   ]
  },
  {
   "cell_type": "code",
   "execution_count": 10,
   "id": "862ed336",
   "metadata": {},
   "outputs": [
    {
     "name": "stdout",
     "output_type": "stream",
     "text": [
      "2 3 5 7 11 13 15 19 21 23 27\n",
      "5\n",
      "[27, 23, 21, 19, 15, 13, 11, 7, 5, 3, 2]\n"
     ]
    }
   ],
   "source": [
    "def rightRotate(a,d):\n",
    "    n=len(a)\n",
    "    a[:]=a[::-1]\n",
    "    return a\n",
    "a=list(map(int,input().split()))\n",
    "d=int(input())\n",
    "print(rightRotate(a,d))"
   ]
  },
  {
   "cell_type": "code",
   "execution_count": 14,
   "id": "bc85d572",
   "metadata": {},
   "outputs": [
    {
     "name": "stdout",
     "output_type": "stream",
     "text": [
      "2 3 5 7 11\n",
      "[2, 11, 5, 7, 3]\n"
     ]
    }
   ],
   "source": [
    "#Interchange Fisrt and Last values in a list\n",
    "l=list(map(int,input().split()))\n",
    "n=len(l)\n",
    "l[1],l[n-1]=l[n-1],l[1]\n",
    "print(l)"
   ]
  },
  {
   "cell_type": "code",
   "execution_count": 16,
   "id": "6938c3f7",
   "metadata": {},
   "outputs": [
    {
     "name": "stdout",
     "output_type": "stream",
     "text": [
      "Enter Principle: 1000\n",
      "Enter Time: 2\n",
      "Enter Rate of interest: 5\n",
      "100\n"
     ]
    }
   ],
   "source": [
    "#Simple interest\n",
    "def SI(p,t,r):\n",
    "    SI=(p*t*r)//100\n",
    "    print(SI)\n",
    "p=int(input(\"Enter Principle: \"))\n",
    "t=int(input(\"Enter Time: \"))\n",
    "r=int(input(\"Enter Rate of interest: \"))\n",
    "SI(p,t,r)"
   ]
  },
  {
   "cell_type": "code",
   "execution_count": 18,
   "id": "1a8c1a3b",
   "metadata": {},
   "outputs": [
    {
     "name": "stdout",
     "output_type": "stream",
     "text": [
      "Enter Principle: 12000\n",
      "Enter Time: 12\n",
      "Enter Rate of interest: 5\n",
      "Compund Amount:  12000.0\n",
      "0.0\n"
     ]
    }
   ],
   "source": [
    "#Compund Interest\n",
    "import math\n",
    "def CI(p,t,r):\n",
    "    amt=p*(math.pow((1+(r//100)),t))\n",
    "    print(\"Compund Amount: \",amt)\n",
    "    CI=amt-p\n",
    "    print(CI)\n",
    "p=int(input(\"Enter Principle: \"))\n",
    "t=int(input(\"Enter Time: \"))\n",
    "r=int(input(\"Enter Rate of interest: \"))\n",
    "CI(p,t,r)"
   ]
  },
  {
   "cell_type": "code",
   "execution_count": 20,
   "id": "652ae65c",
   "metadata": {},
   "outputs": [
    {
     "name": "stdout",
     "output_type": "stream",
     "text": [
      "285\n"
     ]
    }
   ],
   "source": [
    "#Finding Sum of Squares\n",
    "S=0\n",
    "for i in range(10):\n",
    "    S+=i**2\n",
    "print(S)"
   ]
  },
  {
   "cell_type": "code",
   "execution_count": 21,
   "id": "639b6bbe",
   "metadata": {},
   "outputs": [
    {
     "name": "stdout",
     "output_type": "stream",
     "text": [
      "123\n",
      "6\n"
     ]
    }
   ],
   "source": [
    "#Sum of Digits\n",
    "n=int(input())\n",
    "S=0\n",
    "for i in str(n):\n",
    "    S+=int(i)\n",
    "print(S)"
   ]
  },
  {
   "cell_type": "code",
   "execution_count": 2,
   "id": "8210f9f4",
   "metadata": {},
   "outputs": [
    {
     "name": "stdout",
     "output_type": "stream",
     "text": [
      "Sridhar\n",
      "83 114 105 100 104 97 114\n"
     ]
    }
   ],
   "source": [
    "s=input()\n",
    "p=[]\n",
    "for i in s:\n",
    "    p.append(ord(i))\n",
    "print(*p)"
   ]
  },
  {
   "cell_type": "markdown",
   "id": "f97adee6",
   "metadata": {},
   "source": [
    "## Binary Search"
   ]
  },
  {
   "cell_type": "code",
   "execution_count": 7,
   "id": "23bde26e",
   "metadata": {},
   "outputs": [
    {
     "name": "stdout",
     "output_type": "stream",
     "text": [
      "2 3 4 7 11 13\n",
      "Enter the number : 7\n",
      "[2, 3, 4, 7, 11, 13]\n",
      "7\n",
      "The Index of the Element is :  3\n"
     ]
    }
   ],
   "source": [
    "def binary_search(arr,a,low,high):\n",
    "    while low<=high:\n",
    "        mid=low+(high -low)//2\n",
    "        \n",
    "        if arr[mid]==a:\n",
    "            return mid\n",
    "        elif arr[mid]<a:\n",
    "            low=mid+1\n",
    "        else:\n",
    "            high=mid-1\n",
    "    return -1\n",
    "\n",
    "arr=list(map(int,input().split()))\n",
    "a=int(input(\"Enter the number : \"))\n",
    "print(arr)\n",
    "print(a)\n",
    "index=binary_search(arr,a,0,len(arr)-1)\n",
    "if  index!=-1:\n",
    "      print(\"The Index of the Element is : \",str(index))\n",
    "else:\n",
    "      print(\"Element Not Found\")"
   ]
  },
  {
   "cell_type": "code",
   "execution_count": 17,
   "id": "41245a55",
   "metadata": {},
   "outputs": [
    {
     "name": "stdout",
     "output_type": "stream",
     "text": [
      "Sai\n",
      "83 97 105\n"
     ]
    }
   ],
   "source": [
    "S=input()\n",
    "S=list(S)\n",
    "A=[]\n",
    "for i in S:\n",
    "    i=ord(i)\n",
    "    A.append(i)\n",
    "print(*A)"
   ]
  },
  {
   "cell_type": "markdown",
   "id": "ddcee7ac",
   "metadata": {},
   "source": [
    "Arrays Can be implemented in python by using array method by \"importing it\""
   ]
  },
  {
   "cell_type": "markdown",
   "id": "1c768a5a",
   "metadata": {},
   "source": [
    "        Code     |     Python Type\n",
    "\n",
    "1.       i           |          integer\n",
    "2.       u          |         unicode\n",
    "3.       f           |          float\n",
    "4.       I           |          integer"
   ]
  },
  {
   "cell_type": "code",
   "execution_count": 18,
   "id": "66f81e9e",
   "metadata": {},
   "outputs": [
    {
     "name": "stdout",
     "output_type": "stream",
     "text": [
      "1 3 5 7 11 13\n",
      "Sum of the Array is:  40\n"
     ]
    }
   ],
   "source": [
    "import array as ar\n",
    "def sumofArray(arr):\n",
    "    S=0\n",
    "    n=len(arr)\n",
    "    for i in range(n):\n",
    "        S+=arr[i]\n",
    "    return S\n",
    "L=list(map(int,input().split()))\n",
    "a=ar.array('i',L)\n",
    "print(\"Sum of the Array is: \",sumofArray(a))"
   ]
  },
  {
   "cell_type": "markdown",
   "id": "0437584a",
   "metadata": {},
   "source": [
    "####  print the count of max repeating value in a given list or array"
   ]
  },
  {
   "cell_type": "code",
   "execution_count": 2,
   "id": "7c96b8a2",
   "metadata": {},
   "outputs": [
    {
     "name": "stdout",
     "output_type": "stream",
     "text": [
      "1 5 788 6 77 0 9 77 788 9 0 0 0 88 69 69 -89\n",
      "4\n"
     ]
    }
   ],
   "source": [
    "arr=list(map(int,input().split()))\n",
    "l=[]\n",
    "for i in range(len(arr)):\n",
    "    l.append(arr.count(arr[i]))\n",
    "print(max(l))"
   ]
  },
  {
   "cell_type": "code",
   "execution_count": 1,
   "id": "ee5a9ee8",
   "metadata": {},
   "outputs": [
    {
     "name": "stdout",
     "output_type": "stream",
     "text": [
      "5\n",
      "7\n",
      "12\n"
     ]
    }
   ],
   "source": [
    "a=int(input())\n",
    "b=int(input())\n",
    "def Add(a,b):\n",
    "    return a+b\n",
    "print(Add(a,b))"
   ]
  },
  {
   "cell_type": "markdown",
   "id": "7ca9ed74",
   "metadata": {},
   "source": [
    "3\n",
    "2 3 5 7 8 9\n"
   ]
  },
  {
   "cell_type": "code",
   "execution_count": 10,
   "id": "b27b5ebf",
   "metadata": {},
   "outputs": [
    {
     "name": "stdout",
     "output_type": "stream",
     "text": [
      "3\n",
      "2 3 5 7 8 9\n",
      "5\n",
      "8\n",
      "10\n",
      "19\n",
      "5\n",
      "8\n",
      "10\n",
      "19\n",
      "5\n",
      "8\n",
      "10\n",
      "19\n",
      "19\n"
     ]
    }
   ],
   "source": [
    "k=int(input())\n",
    "l=list(map(int,input().split()))\n",
    "a=[]\n",
    "if len(l)<k:\n",
    "    print(-1)\n",
    "else:\n",
    "    for i  in range(len(l)-k):\n",
    "        b=0\n",
    "        c=k\n",
    "        while c>=0:\n",
    "            b+=l[c-1]\n",
    "            c=c-1\n",
    "            print(b)\n",
    "        a.append(b)\n",
    "print(max(a))\n",
    "        "
   ]
  },
  {
   "cell_type": "code",
   "execution_count": 29,
   "id": "e480622c",
   "metadata": {},
   "outputs": [
    {
     "name": "stdout",
     "output_type": "stream",
     "text": [
      "3\n",
      "2 4 1\n",
      "-1\n"
     ]
    }
   ],
   "source": [
    "k=int(input())\n",
    "l=list(map(int,input().split()))\n",
    "a=[]\n",
    "if len(l)<=k:\n",
    "    print(-1)\n",
    "else:\n",
    "    l.sort()\n",
    "    S=sum(l[-(k):])\n",
    "    print(S)"
   ]
  },
  {
   "cell_type": "markdown",
   "id": "a9e7babb",
   "metadata": {},
   "source": []
  }
 ],
 "metadata": {
  "kernelspec": {
   "display_name": "Python 3 (ipykernel)",
   "language": "python",
   "name": "python3"
  },
  "language_info": {
   "codemirror_mode": {
    "name": "ipython",
    "version": 3
   },
   "file_extension": ".py",
   "mimetype": "text/x-python",
   "name": "python",
   "nbconvert_exporter": "python",
   "pygments_lexer": "ipython3",
   "version": "3.9.7"
  }
 },
 "nbformat": 4,
 "nbformat_minor": 5
}
